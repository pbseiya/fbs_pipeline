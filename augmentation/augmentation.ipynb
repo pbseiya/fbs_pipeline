{
 "cells": [
  {
   "cell_type": "code",
   "execution_count": 6,
   "metadata": {},
   "outputs": [],
   "source": [
    "import os, cv2, shutil\n",
    "import matplotlib.pyplot as plt\n",
    "from tqdm.notebook import tqdm\n",
    "def fliplr(src, tvt, aug_name='fliplr'):\n",
    "    img_dir = 'images'\n",
    "    img_path = os.path.join(src, tvt, img_dir)\n",
    "    img_files = os.listdir(img_path)\n",
    "    img_files.sort()\n",
    "    dst = f'augmentation/{aug_name}/{tvt}'\n",
    "    dst_images = os.path.join(src, dst, img_dir)\n",
    "    label_dir = 'labels'\n",
    "    label_path = os.path.join(src, tvt, label_dir)\n",
    "    dst_labels = os.path.join(src, dst, label_dir)\n",
    "    print(f'source images path = {img_path}')\n",
    "    print(f'source labels path = {label_path}')\n",
    "    print(f'destination images path = {dst_images}')\n",
    "    print(f'destination labels path = {dst_labels}')\n",
    "    if not os.path.exists(dst_images):\n",
    "        os.makedirs(dst_images)\n",
    "    if not os.path.exists(dst_labels):\n",
    "        os.makedirs(dst_labels)\n",
    "\n",
    "    for file in tqdm(img_files):\n",
    "        # print(file)\n",
    "        if file.lower().endswith(('.png', '.jpg', '.jpeg', '.tiff', '.bmp', '.gif')):\n",
    "            # print(file)\n",
    "            img = cv2.imread(os.path.join(img_path,file))\n",
    "            img = cv2.cvtColor(img, cv2.COLOR_BGR2RGB)\n",
    "            img = cv2.flip(img,1)\n",
    "            plt.imsave(os.path.join(dst_images, aug_name+'_'+file), img)\n",
    "\n",
    "            ann_path = os.path.join(label_path,f'{file[:-3]}txt')\n",
    "            ann_aug_path = os.path.join(dst_labels, f'{aug_name}_{file[:-3]}txt')\n",
    "            if os.path.exists(ann_path):\n",
    "                if os.path.getsize(ann_path) > 0:\n",
    "                    with open(ann_path, 'r') as txt:\n",
    "                        txt = txt.read().splitlines()\n",
    "                    \n",
    "                    with open(ann_aug_path, 'w') as dst_file:\n",
    "                        for line in txt:\n",
    "                            cl, x, y, w, h = [i for i in line.split(' ')]\n",
    "                            x = str(f'{1-float(x):.6f}')\n",
    "                            dst_file.writelines(' '.join([cl, x, y, w, h])+'\\n')\n",
    "                else:\n",
    "                    shutil.copy(ann_path, ann_aug_path)"
   ]
  },
  {
   "cell_type": "code",
   "execution_count": 7,
   "metadata": {},
   "outputs": [
    {
     "name": "stdout",
     "output_type": "stream",
     "text": [
      "source images path = ./datasets4/custom_dataset4/merger_beforeandafter1000/train/images\n",
      "source labels path = ./datasets4/custom_dataset4/merger_beforeandafter1000/train/labels\n",
      "destination images path = ./datasets4/custom_dataset4/merger_beforeandafter1000/augmentation/fliplr/train/images\n",
      "destination labels path = ./datasets4/custom_dataset4/merger_beforeandafter1000/augmentation/fliplr/train/labels\n"
     ]
    },
    {
     "data": {
      "application/vnd.jupyter.widget-view+json": {
       "model_id": "bcb9c1117ffd4e4a9bb945bff75b2f74",
       "version_major": 2,
       "version_minor": 0
      },
      "text/plain": [
       "  0%|          | 0/14761 [00:00<?, ?it/s]"
      ]
     },
     "metadata": {},
     "output_type": "display_data"
    },
    {
     "name": "stdout",
     "output_type": "stream",
     "text": [
      "source images path = ./datasets4/custom_dataset4/merger_beforeandafter1000/val/images\n",
      "source labels path = ./datasets4/custom_dataset4/merger_beforeandafter1000/val/labels\n",
      "destination images path = ./datasets4/custom_dataset4/merger_beforeandafter1000/augmentation/fliplr/val/images\n",
      "destination labels path = ./datasets4/custom_dataset4/merger_beforeandafter1000/augmentation/fliplr/val/labels\n"
     ]
    },
    {
     "data": {
      "application/vnd.jupyter.widget-view+json": {
       "model_id": "6443f5196c5043f5968c9641396f0cb8",
       "version_major": 2,
       "version_minor": 0
      },
      "text/plain": [
       "  0%|          | 0/3931 [00:00<?, ?it/s]"
      ]
     },
     "metadata": {},
     "output_type": "display_data"
    },
    {
     "name": "stdout",
     "output_type": "stream",
     "text": [
      "source images path = ./datasets4/custom_dataset4/merger_beforeandafter1000/test/images\n",
      "source labels path = ./datasets4/custom_dataset4/merger_beforeandafter1000/test/labels\n",
      "destination images path = ./datasets4/custom_dataset4/merger_beforeandafter1000/augmentation/fliplr/test/images\n",
      "destination labels path = ./datasets4/custom_dataset4/merger_beforeandafter1000/augmentation/fliplr/test/labels\n"
     ]
    },
    {
     "data": {
      "application/vnd.jupyter.widget-view+json": {
       "model_id": "ab13bb3daa86466e8ad21fe2762f9cc2",
       "version_major": 2,
       "version_minor": 0
      },
      "text/plain": [
       "  0%|          | 0/1965 [00:00<?, ?it/s]"
      ]
     },
     "metadata": {},
     "output_type": "display_data"
    }
   ],
   "source": [
    "src = './datasets4/custom_dataset4/merger_beforeandafter1000'\n",
    "for tvt in ['train','val','test']:\n",
    "    fliplr(src=src, tvt=tvt, aug_name='fliplr')"
   ]
  },
  {
   "cell_type": "code",
   "execution_count": 11,
   "metadata": {},
   "outputs": [],
   "source": [
    "import cv2, os, shutil\n",
    "import numpy as np\n",
    "import matplotlib.pyplot as plt\n",
    "from tqdm.notebook import tqdm\n",
    "def generate_random_lines(imshape,slant,drop_length):\n",
    "    drops=[]    \n",
    "    for i in range(np.random.randint(100,1500)): ## If You want heavy rain, try increasing this        \n",
    "        x= np.random.randint(0,imshape[1]-slant)        \n",
    "        y= np.random.randint(0,imshape[0]-drop_length)        \n",
    "        drops.append((x,y))    \n",
    "    return drops            \n",
    "\n",
    "def add_rain(image):        \n",
    "    imshape = image.shape    \n",
    "    slant_extreme=np.random.randint(2,20) # default 10\n",
    "    slant= np.random.randint(-slant_extreme,slant_extreme)     \n",
    "    drop_length=np.random.randint(2,20) # default 20\n",
    "    drop_width=1 # default 2\n",
    "    drop_color=(200,200,200) ## a shade of gray    \n",
    "    # print(imshape, slant, drop_length)\n",
    "\n",
    "    blur = np.random.randint(2,5)\n",
    "    image= cv2.blur(image,(blur,blur)) ## rainy view are blurry        \n",
    "    rain_drops= generate_random_lines(imshape,slant,drop_length)        \n",
    "    for rain_drop in rain_drops:        \n",
    "        cv2.line(img=image,pt1=(rain_drop[0],rain_drop[1]),pt2=(rain_drop[0]+slant,rain_drop[1]+drop_length),color=drop_color,thickness=drop_width)    \n",
    "        brightness_coefficient = np.random.randint(7,10)/10 ## rainy days are usually shady    defalut 0.7 \n",
    "        image_HLS = cv2.cvtColor(image,cv2.COLOR_RGB2HLS) ## Conversion to HLS    \n",
    "        image_HLS[:,:,1] = image_HLS[:,:,1]*brightness_coefficient ## scale pixel values down for channel 1(Lightness)    \n",
    "        image_RGB = cv2.cvtColor(image_HLS,cv2.COLOR_HLS2RGB) ## Conversion to RGB    \n",
    "    return image_RGB\n",
    "\n",
    "def rain(src=src, tvt=tvt, aug_name='rain'):\n",
    "    img_dir = 'images'\n",
    "    img_path = os.path.join(src, tvt, img_dir)\n",
    "    img_files = os.listdir(img_path)\n",
    "    img_files.sort()\n",
    "    dst = f'augmentation/{aug_name}/{tvt}'\n",
    "    dst_images = os.path.join(src, dst, img_dir)\n",
    "    label_dir = 'labels'\n",
    "    label_path = os.path.join(src, tvt, label_dir)\n",
    "    dst_labels = os.path.join(src, dst, label_dir)\n",
    "    print(f'source images path = {img_path}')\n",
    "    print(f'source labels path = {label_path}')\n",
    "    print(f'destination images path = {dst_images}')\n",
    "    print(f'destination labels path = {dst_labels}')\n",
    "    if not os.path.exists(dst_images):\n",
    "        os.makedirs(dst_images)\n",
    "    if not os.path.exists(dst_labels):\n",
    "        os.makedirs(dst_labels)\n",
    "\n",
    "    for file in tqdm(img_files):\n",
    "        # print(file)\n",
    "        img = cv2.imread(os.path.join(img_path,file))\n",
    "        img = cv2.cvtColor(img, cv2.COLOR_BGR2RGB)\n",
    "        img = add_rain(img)\n",
    "        plt.imsave(os.path.join(dst_images, aug_name+'_'+file), img)\n",
    "        ann_path = os.path.join(label_path,f'{file[:-3]}txt')\n",
    "        if os.path.exists(ann_path):\n",
    "            ann_aug_path = os.path.join(dst_labels, f'{aug_name}_{file[:-3]}txt')\n",
    "            shutil.copy(ann_path, ann_aug_path)    "
   ]
  },
  {
   "cell_type": "code",
   "execution_count": null,
   "metadata": {},
   "outputs": [],
   "source": [
    "src = './datasets4/custom_dataset4/merger_beforeandafter1000'\n",
    "for tvt in ['train','val','test']:\n",
    "    rain(src=src, tvt=tvt, aug_name='rain')"
   ]
  },
  {
   "cell_type": "markdown",
   "metadata": {},
   "source": [
    "# Merge funcion"
   ]
  },
  {
   "cell_type": "code",
   "execution_count": 13,
   "metadata": {},
   "outputs": [],
   "source": [
    "import os\n",
    "import cv2\n",
    "import shutil\n",
    "import matplotlib.pyplot as plt\n",
    "from tqdm.notebook import tqdm\n",
    "import numpy as np\n",
    "\n",
    "class Augmentation:\n",
    "    def __init__(self, src, tvt):\n",
    "        self.src = src\n",
    "        self.tvt = tvt\n",
    "        self.img_dir = 'images'\n",
    "        self.label_dir = 'labels'\n",
    "\n",
    "    def _get_paths(self, aug_name):\n",
    "        img_path = os.path.join(self.src, self.tvt, self.img_dir)\n",
    "        img_files = sorted(os.listdir(img_path))\n",
    "        dst = f'augmentation/{aug_name}/{self.tvt}'\n",
    "        dst_images = os.path.join(self.src, dst, self.img_dir)\n",
    "        label_path = os.path.join(self.src, self.tvt, self.label_dir)\n",
    "        dst_labels = os.path.join(self.src, dst, self.label_dir)\n",
    "        return img_path, img_files, dst_images, label_path, dst_labels\n",
    "\n",
    "    def _create_dirs(self, dst_images, dst_labels):\n",
    "        os.makedirs(dst_images, exist_ok=True)\n",
    "        os.makedirs(dst_labels, exist_ok=True)\n",
    "\n",
    "    def _process_image(self, img_path, file, aug_function):\n",
    "        img = cv2.imread(os.path.join(img_path, file))\n",
    "        img = cv2.cvtColor(img, cv2.COLOR_BGR2RGB)\n",
    "        img = aug_function(img)\n",
    "        return img\n",
    "\n",
    "    def _save_image(self, dst_images, aug_name, file, img):\n",
    "        plt.imsave(os.path.join(dst_images, aug_name + '_' + file), img)\n",
    "\n",
    "    def _copy_or_update_labels(self, label_path, dst_labels, aug_name, file, update_function=None):\n",
    "        ann_path = os.path.join(label_path, f'{file[:-3]}txt')\n",
    "        if os.path.exists(ann_path):\n",
    "            ann_aug_path = os.path.join(dst_labels, f'{aug_name}_{file[:-3]}txt')\n",
    "            if os.path.exists(ann_path):\n",
    "                if os.path.getsize(ann_path) > 0 and update_function:\n",
    "                    with open(ann_path, 'r') as txt, open(ann_aug_path, 'w') as dst_file:\n",
    "                        for line in txt:\n",
    "                            cl, x, y, w, h = [i for i in line.split(' ')]\n",
    "                            updated_line = update_function(cl, x, y, w, h)\n",
    "                            dst_file.writelines(updated_line + '\\n')\n",
    "                else:\n",
    "                    shutil.copy(ann_path, ann_aug_path)\n",
    "\n",
    "    def fliplr(self, aug_name='fliplr'):\n",
    "        img_path, img_files, dst_images, label_path, dst_labels = self._get_paths(aug_name)\n",
    "        self._create_dirs(dst_images, dst_labels)\n",
    "\n",
    "        def update_labels(cl, x, y, w, h):\n",
    "            x = str(f'{1 - float(x):.6f}')\n",
    "            return ' '.join([cl, x, y, w, h])\n",
    "\n",
    "        for file in tqdm(img_files):\n",
    "            if file.lower().endswith(('.png', '.jpg', '.jpeg', '.tiff', '.bmp', '.gif')):\n",
    "                img = self._process_image(img_path, file, lambda img: cv2.flip(img, 1))\n",
    "                self._save_image(dst_images, aug_name, file, img)\n",
    "                self._copy_or_update_labels(label_path, dst_labels, aug_name, file, update_labels)\n",
    "\n",
    "    def rain(self, aug_name='rain'):\n",
    "        img_path, img_files, dst_images, label_path, dst_labels = self._get_paths(aug_name)\n",
    "        self._create_dirs(dst_images, dst_labels)\n",
    "\n",
    "        def generate_random_lines(imshape, slant, drop_length):\n",
    "            drops = []\n",
    "            for i in range(np.random.randint(100, 1500)):\n",
    "                x = np.random.randint(0, imshape[1] - slant)\n",
    "                y = np.random.randint(0, imshape[0] - drop_length)\n",
    "                drops.append((x, y))\n",
    "            return drops\n",
    "\n",
    "        def add_rain(image):\n",
    "            imshape = image.shape\n",
    "            slant_extreme = np.random.randint(2, 20) \n",
    "            slant = np.random.randint(-slant_extreme, slant_extreme)\n",
    "            drop_length = np.random.randint(2, 20) \n",
    "            drop_width = 1  \n",
    "            drop_color = (200, 200, 200)  \n",
    "            blur = np.random.randint(2, 5)\n",
    "            image = cv2.blur(image, (blur, blur)) \n",
    "            rain_drops = generate_random_lines(imshape, slant, drop_length)\n",
    "            for rain_drop in rain_drops:\n",
    "                cv2.line(img=image, pt1=(rain_drop[0], rain_drop[1]),\n",
    "                         pt2=(rain_drop[0] + slant, rain_drop[1] + drop_length), color=drop_color, thickness=drop_width)\n",
    "            brightness_coefficient = np.random.randint(7, 10) / 10 \n",
    "            image_HLS = cv2.cvtColor(image, cv2.COLOR_RGB2HLS) \n",
    "            image_HLS[:, :, 1] = image_HLS[:, :, 1] * brightness_coefficient \n",
    "            image_RGB = cv2.cvtColor(image_HLS, cv2.COLOR_HLS2RGB) \n",
    "            return image_RGB\n",
    "\n",
    "        for file in tqdm(img_files):\n",
    "            img = self._process_image(img_path, file, add_rain)\n",
    "            self._save_image(dst_images, aug_name, file, img)\n",
    "            self._copy_or_update_labels(label_path, dst_labels, aug_name, file)"
   ]
  },
  {
   "cell_type": "code",
   "execution_count": 15,
   "metadata": {},
   "outputs": [
    {
     "data": {
      "application/vnd.jupyter.widget-view+json": {
       "model_id": "ecb9eb409ae6409aaba98e8864895656",
       "version_major": 2,
       "version_minor": 0
      },
      "text/plain": [
       "  0%|          | 0/14761 [00:00<?, ?it/s]"
      ]
     },
     "metadata": {},
     "output_type": "display_data"
    },
    {
     "data": {
      "application/vnd.jupyter.widget-view+json": {
       "model_id": "e9d52eafabe846ad8c55842ce63b1335",
       "version_major": 2,
       "version_minor": 0
      },
      "text/plain": [
       "  0%|          | 0/3931 [00:00<?, ?it/s]"
      ]
     },
     "metadata": {},
     "output_type": "display_data"
    },
    {
     "data": {
      "application/vnd.jupyter.widget-view+json": {
       "model_id": "a3b3f188093840f5b6422e96edae24c8",
       "version_major": 2,
       "version_minor": 0
      },
      "text/plain": [
       "  0%|          | 0/1965 [00:00<?, ?it/s]"
      ]
     },
     "metadata": {},
     "output_type": "display_data"
    }
   ],
   "source": [
    "# Create an instance of the Augmentation class\n",
    "# augmentation = Augmentation(src, tvt)\n",
    "\n",
    "# # Apply horizontal flip augmentation\n",
    "# augmentation.fliplr()\n",
    "\n",
    "# # Apply rain augmentation\n",
    "# augmentation.rain()\n",
    "\n",
    "src = './datasets4/custom_dataset4/merger_beforeandafter1000'\n",
    "for tvt in ['train','val','test']:\n",
    "    augmentation = Augmentation(src, tvt)\n",
    "    augmentation.rain()"
   ]
  },
  {
   "cell_type": "markdown",
   "metadata": {},
   "source": [
    "# Mix rain, fliplr, both in random"
   ]
  },
  {
   "cell_type": "code",
   "execution_count": 1,
   "metadata": {},
   "outputs": [],
   "source": [
    "import os\n",
    "import cv2\n",
    "import shutil\n",
    "import matplotlib.pyplot as plt\n",
    "from tqdm.notebook import tqdm\n",
    "import numpy as np\n",
    "import random\n",
    "\n",
    "class Augmentation:\n",
    "    def __init__(self, src, tvt):\n",
    "        self.src = src\n",
    "        self.tvt = tvt\n",
    "        self.img_dir = 'images'\n",
    "        self.label_dir = 'labels'\n",
    "\n",
    "    def _get_paths(self, aug_name):\n",
    "        img_path = os.path.join(self.src, self.tvt, self.img_dir)\n",
    "        img_files = sorted(os.listdir(img_path))\n",
    "        dst = f'augmentation/{aug_name}/{self.tvt}'\n",
    "        dst_images = os.path.join(self.src, dst, self.img_dir)\n",
    "        label_path = os.path.join(self.src, self.tvt, self.label_dir)\n",
    "        dst_labels = os.path.join(self.src, dst, self.label_dir)\n",
    "        return img_path, img_files, dst_images, label_path, dst_labels\n",
    "\n",
    "    def _create_dirs(self, dst_images, dst_labels):\n",
    "        os.makedirs(dst_images, exist_ok=True)\n",
    "        os.makedirs(dst_labels, exist_ok=True)\n",
    "\n",
    "    def _process_image(self, img_path, file, aug_function):\n",
    "        img = cv2.imread(os.path.join(img_path, file))\n",
    "        img = cv2.cvtColor(img, cv2.COLOR_BGR2RGB)\n",
    "        img = aug_function(img)\n",
    "        return img\n",
    "\n",
    "    def _save_image(self, dst_images, aug_name, file, img):\n",
    "        plt.imsave(os.path.join(dst_images, aug_name + '_' + file), img)\n",
    "\n",
    "    def _copy_or_update_labels(self, label_path, dst_labels, aug_name, file, update_function=None):\n",
    "        ann_path = os.path.join(label_path, f'{file[:-3]}txt')\n",
    "        if os.path.exists(ann_path):\n",
    "            ann_aug_path = os.path.join(dst_labels, f'{aug_name}_{file[:-3]}txt')\n",
    "            if os.path.exists(ann_path):\n",
    "                if os.path.getsize(ann_path) > 0 and update_function:\n",
    "                    with open(ann_path, 'r') as txt, open(ann_aug_path, 'w') as dst_file:\n",
    "                        for line in txt:\n",
    "                            cl, x, y, w, h = [i for i in line.split(' ')]\n",
    "                            updated_line = update_function(cl, x, y, w, h)\n",
    "                            dst_file.writelines(updated_line + '\\n')\n",
    "                else:\n",
    "                    shutil.copy(ann_path, ann_aug_path)\n",
    "\n",
    "    def fliplr(self, aug_name='fliplr'):\n",
    "        img_path, img_files, dst_images, label_path, dst_labels = self._get_paths(aug_name)\n",
    "        self._create_dirs(dst_images, dst_labels)\n",
    "\n",
    "        def update_labels(cl, x, y, w, h):\n",
    "            x = str(f'{1 - float(x):.6f}')\n",
    "            return ' '.join([cl, x, y, w, h])\n",
    "\n",
    "        for file in tqdm(img_files):\n",
    "            if file.lower().endswith(('.png', '.jpg', '.jpeg', '.tiff', '.bmp', '.gif')):\n",
    "                img = self._process_image(img_path, file, lambda img: cv2.flip(img, 1))\n",
    "                self._save_image(dst_images, aug_name, file, img)\n",
    "                self._copy_or_update_labels(label_path, dst_labels, aug_name, file, update_labels)\n",
    "\n",
    "    def rain(self, aug_name='rain'):\n",
    "        img_path, img_files, dst_images, label_path, dst_labels = self._get_paths(aug_name)\n",
    "        self._create_dirs(dst_images, dst_labels)\n",
    "\n",
    "        def generate_random_lines(imshape, slant, drop_length):\n",
    "            drops = []\n",
    "            for i in range(np.random.randint(100, 1500)):\n",
    "                x = np.random.randint(0, imshape[1] - slant)\n",
    "                y = np.random.randint(0, imshape[0] - drop_length)\n",
    "                drops.append((x, y))\n",
    "            return drops\n",
    "\n",
    "        def add_rain(image):\n",
    "            imshape = image.shape\n",
    "            slant_extreme = np.random.randint(2, 20) \n",
    "            slant = np.random.randint(-slant_extreme, slant_extreme)\n",
    "            drop_length = np.random.randint(2, 20) \n",
    "            drop_width = 1  \n",
    "            drop_color = (200, 200, 200)  \n",
    "            blur = np.random.randint(2, 5)\n",
    "            image = cv2.blur(image, (blur, blur)) \n",
    "            rain_drops = generate_random_lines(imshape, slant, drop_length)\n",
    "            for rain_drop in rain_drops:\n",
    "                cv2.line(img=image, pt1=(rain_drop[0], rain_drop[1]),\n",
    "                         pt2=(rain_drop[0] + slant, rain_drop[1] + drop_length), color=drop_color, thickness=drop_width)\n",
    "            brightness_coefficient = np.random.randint(7, 10) / 10 \n",
    "            image_HLS = cv2.cvtColor(image, cv2.COLOR_RGB2HLS) \n",
    "            image_HLS[:, :, 1] = image_HLS[:, :, 1] * brightness_coefficient \n",
    "            image_RGB = cv2.cvtColor(image_HLS, cv2.COLOR_HLS2RGB) \n",
    "            return image_RGB\n",
    "\n",
    "        for file in tqdm(img_files):\n",
    "            img = self._process_image(img_path, file, add_rain)\n",
    "            self._save_image(dst_images, aug_name, file, img)\n",
    "            self._copy_or_update_labels(label_path, dst_labels, aug_name, file)\n",
    "\n",
    "    def random_augment(self, aug_name='random'):\n",
    "        img_path, img_files, dst_images, label_path, dst_labels = self._get_paths(aug_name)\n",
    "        self._create_dirs(dst_images, dst_labels)\n",
    "\n",
    "        def update_labels_fliplr(cl, x, y, w, h):\n",
    "            x = str(f'{1 - float(x):.6f}')\n",
    "            return ' '.join([cl, x, y, w, h])\n",
    "\n",
    "        def generate_random_lines(imshape, slant, drop_length):\n",
    "            drops = []\n",
    "            for i in range(np.random.randint(100, 1500)):\n",
    "                x = np.random.randint(0, imshape[1] - slant)\n",
    "                y = np.random.randint(0, imshape[0] - drop_length)\n",
    "                drops.append((x, y))\n",
    "            return drops\n",
    "\n",
    "        def add_rain(image):\n",
    "            imshape = image.shape\n",
    "            slant_extreme = np.random.randint(2, 20) \n",
    "            slant = np.random.randint(-slant_extreme, slant_extreme)\n",
    "            drop_length = np.random.randint(2, 20) \n",
    "            drop_width = 1  \n",
    "            drop_color = (200, 200, 200)  \n",
    "            blur = np.random.randint(2, 5)\n",
    "            image = cv2.blur(image, (blur, blur)) \n",
    "            rain_drops = generate_random_lines(imshape, slant, drop_length)\n",
    "            for rain_drop in rain_drops:\n",
    "                cv2.line(img=image, pt1=(rain_drop[0], rain_drop[1]),\n",
    "                         pt2=(rain_drop[0] + slant, rain_drop[1] + drop_length), color=drop_color, thickness=drop_width)\n",
    "            brightness_coefficient = np.random.randint(7, 10) / 10 \n",
    "            image_HLS = cv2.cvtColor(image, cv2.COLOR_RGB2HLS) \n",
    "            image_HLS[:, :, 1] = image_HLS[:, :, 1] * brightness_coefficient \n",
    "            image_RGB = cv2.cvtColor(image_HLS, cv2.COLOR_HLS2RGB) \n",
    "            return image_RGB\n",
    "\n",
    "        for file in tqdm(img_files):\n",
    "            if file.lower().endswith(('.png', '.jpg', '.jpeg', '.tiff', '.bmp', '.gif')):\n",
    "                choice = random.choice(['fliplr', 'rain', 'both'])\n",
    "                if choice == 'fliplr':\n",
    "                    img = self._process_image(img_path, file, lambda img: cv2.flip(img, 1))\n",
    "                    self._save_image(dst_images, aug_name, 'fliplr_' + file, img)\n",
    "                    self._copy_or_update_labels(label_path, dst_labels, 'fliplr_' + file[:-4], file, update_labels_fliplr)\n",
    "                elif choice == 'rain':\n",
    "                    img = self._process_image(img_path, file, add_rain)\n",
    "                    self._save_image(dst_images, aug_name, 'rain_' + file, img)\n",
    "                    self._copy_or_update_labels(label_path, dst_labels, 'rain_' + file[:-4], file)\n",
    "                else:  # 'both'\n",
    "                    img = self._process_image(img_path, file, lambda img: cv2.flip(img, 1))\n",
    "                    img = add_rain(img)\n",
    "                    self._save_image(dst_images, aug_name, 'both_' + file, img)\n",
    "                    self._copy_or_update_labels(label_path, dst_labels, 'both_' + file[:-4], file, update_labels_fliplr) "
   ]
  },
  {
   "cell_type": "code",
   "execution_count": 3,
   "metadata": {},
   "outputs": [
    {
     "data": {
      "application/vnd.jupyter.widget-view+json": {
       "model_id": "aa584c052ec74f11a48958398d0a2969",
       "version_major": 2,
       "version_minor": 0
      },
      "text/plain": [
       "  0%|          | 0/14761 [00:00<?, ?it/s]"
      ]
     },
     "metadata": {},
     "output_type": "display_data"
    },
    {
     "data": {
      "application/vnd.jupyter.widget-view+json": {
       "model_id": "2a50b5de6e6a43779382839fc4092d92",
       "version_major": 2,
       "version_minor": 0
      },
      "text/plain": [
       "  0%|          | 0/3931 [00:00<?, ?it/s]"
      ]
     },
     "metadata": {},
     "output_type": "display_data"
    },
    {
     "data": {
      "application/vnd.jupyter.widget-view+json": {
       "model_id": "e2bf77bc56014b1baf99206a40763b94",
       "version_major": 2,
       "version_minor": 0
      },
      "text/plain": [
       "  0%|          | 0/1965 [00:00<?, ?it/s]"
      ]
     },
     "metadata": {},
     "output_type": "display_data"
    }
   ],
   "source": [
    "src = './datasets4/custom_dataset4/merger_beforeandafter1000'\n",
    "for tvt in ['train','val','test']:\n",
    "    augmentation = Augmentation(src, tvt)\n",
    "    augmentation.random_augment()"
   ]
  },
  {
   "cell_type": "markdown",
   "metadata": {},
   "source": [
    "# Shorten again"
   ]
  },
  {
   "cell_type": "code",
   "execution_count": 5,
   "metadata": {},
   "outputs": [],
   "source": [
    "import os\n",
    "import cv2\n",
    "import shutil\n",
    "import matplotlib.pyplot as plt\n",
    "from tqdm.notebook import tqdm\n",
    "import numpy as np\n",
    "import random\n",
    "\n",
    "class Augmentation:\n",
    "    def __init__(self, src, tvt):\n",
    "        self.src = src\n",
    "        self.tvt = tvt\n",
    "        self.img_dir = 'images'\n",
    "        self.label_dir = 'labels'\n",
    "\n",
    "    def _get_paths(self, aug_name):\n",
    "        img_path = os.path.join(self.src, self.tvt, self.img_dir)\n",
    "        img_files = sorted(os.listdir(img_path))\n",
    "        dst = f'augmentation/{aug_name}/{self.tvt}'\n",
    "        dst_images = os.path.join(self.src, dst, self.img_dir)\n",
    "        label_path = os.path.join(self.src, self.tvt, self.label_dir)\n",
    "        dst_labels = os.path.join(self.src, dst, self.label_dir)\n",
    "        return img_path, img_files, dst_images, label_path, dst_labels\n",
    "\n",
    "    def _create_dirs(self, dst_images, dst_labels):\n",
    "        os.makedirs(dst_images, exist_ok=True)\n",
    "        os.makedirs(dst_labels, exist_ok=True)\n",
    "\n",
    "    def _process_image(self, img_path, file, aug_function):\n",
    "        img = cv2.imread(os.path.join(img_path, file))\n",
    "        img = cv2.cvtColor(img, cv2.COLOR_BGR2RGB)\n",
    "        img = aug_function(img)\n",
    "        return img\n",
    "\n",
    "    def _save_image(self, dst_images, aug_name, file, img):\n",
    "        plt.imsave(os.path.join(dst_images, aug_name + '_' + file), img)\n",
    "\n",
    "    def _copy_or_update_labels(self, label_path, dst_labels, aug_name, file, update_function=None):\n",
    "        ann_path = os.path.join(label_path, f'{file[:-3]}txt')\n",
    "        if os.path.exists(ann_path):\n",
    "            ann_aug_path = os.path.join(dst_labels, f'{aug_name}_{file[:-3]}txt')\n",
    "            if os.path.exists(ann_path):\n",
    "                if os.path.getsize(ann_path) > 0 and update_function:\n",
    "                    with open(ann_path, 'r') as txt, open(ann_aug_path, 'w') as dst_file:\n",
    "                        for line in txt:\n",
    "                            cl, x, y, w, h = [i for i in line.split(' ')]\n",
    "                            updated_line = update_function(cl, x, y, w, h)\n",
    "                            dst_file.writelines(updated_line + '\\n')\n",
    "                else:\n",
    "                    shutil.copy(ann_path, ann_aug_path)\n",
    "\n",
    "    def generate_random_lines(self, imshape, slant, drop_length):\n",
    "        drops = []\n",
    "        for i in range(np.random.randint(100, 1500)):\n",
    "            x = np.random.randint(0, imshape[1] - slant)\n",
    "            y = np.random.randint(0, imshape[0] - drop_length)\n",
    "            drops.append((x, y))\n",
    "        return drops\n",
    "    def add_rain(self, image):\n",
    "        imshape = image.shape\n",
    "        slant_extreme = np.random.randint(2, 20) \n",
    "        slant = np.random.randint(-slant_extreme, slant_extreme)\n",
    "        drop_length = np.random.randint(2, 20) \n",
    "        drop_width = 1  \n",
    "        drop_color = (200, 200, 200)  \n",
    "        blur = np.random.randint(2, 5)\n",
    "        image = cv2.blur(image, (blur, blur)) \n",
    "        rain_drops = self.generate_random_lines(imshape, slant, drop_length)\n",
    "        for rain_drop in rain_drops:\n",
    "            cv2.line(img=image, pt1=(rain_drop[0], rain_drop[1]),\n",
    "                     pt2=(rain_drop[0] + slant, rain_drop[1] + drop_length), color=drop_color, thickness=drop_width)\n",
    "        brightness_coefficient = np.random.randint(7, 10) / 10 \n",
    "        image_HLS = cv2.cvtColor(image, cv2.COLOR_RGB2HLS) \n",
    "        image_HLS[:, :, 1] = image_HLS[:, :, 1] * brightness_coefficient \n",
    "        image_RGB = cv2.cvtColor(image_HLS, cv2.COLOR_HLS2RGB) \n",
    "        return image_RGB\n",
    "\n",
    "\n",
    "    def fliplr(self, aug_name='fliplr'):\n",
    "        img_path, img_files, dst_images, label_path, dst_labels = self._get_paths(aug_name)\n",
    "        self._create_dirs(dst_images, dst_labels)\n",
    "\n",
    "        def update_labels(cl, x, y, w, h):\n",
    "            x = str(f'{1 - float(x):.6f}')\n",
    "            return ' '.join([cl, x, y, w, h])\n",
    "\n",
    "        for file in tqdm(img_files):\n",
    "            if file.lower().endswith(('.png', '.jpg', '.jpeg', '.tiff', '.bmp', '.gif')):\n",
    "                img = self._process_image(img_path, file, lambda img: cv2.flip(img, 1))\n",
    "                self._save_image(dst_images, aug_name, file, img)\n",
    "                self._copy_or_update_labels(label_path, dst_labels, aug_name, file, update_labels)\n",
    "\n",
    "    def rain(self, aug_name='rain'):\n",
    "        img_path, img_files, dst_images, label_path, dst_labels = self._get_paths(aug_name)\n",
    "        self._create_dirs(dst_images, dst_labels)\n",
    "\n",
    "        for file in tqdm(img_files):\n",
    "            img = self._process_image(img_path, file, self.add_rain)\n",
    "            self._save_image(dst_images, aug_name, file, img)\n",
    "            self._copy_or_update_labels(label_path, dst_labels, aug_name, file)\n",
    "\n",
    "    def random_augment(self, aug_name='random'):\n",
    "        img_path, img_files, dst_images, label_path, dst_labels = self._get_paths(aug_name)\n",
    "        self._create_dirs(dst_images, dst_labels)\n",
    "\n",
    "        def update_labels_fliplr(cl, x, y, w, h):\n",
    "            x = str(f'{1 - float(x):.6f}')\n",
    "            return ' '.join([cl, x, y, w, h])\n",
    "\n",
    "        for file in tqdm(img_files):\n",
    "            if file.lower().endswith(('.png', '.jpg', '.jpeg', '.tiff', '.bmp', '.gif')):\n",
    "                choice = random.choice(['fliplr', 'rain', 'both'])\n",
    "                if choice == 'fliplr':\n",
    "                    img = self._process_image(img_path, file, lambda img: cv2.flip(img, 1))\n",
    "                    self._save_image(dst_images, aug_name, 'fliplr_' + file, img)\n",
    "                    self._copy_or_update_labels(label_path, dst_labels, 'fliplr_' + file[:-4], file, update_labels_fliplr)\n",
    "                elif choice == 'rain':\n",
    "                    img = self._process_image(img_path, file, self.add_rain)\n",
    "                    self._save_image(dst_images, aug_name, 'rain_' + file, img)\n",
    "                    self._copy_or_update_labels(label_path, dst_labels, 'rain_' + file[:-4], file)\n",
    "                else:  # 'both'\n",
    "                    img = self._process_image(img_path, file, lambda img: cv2.flip(img, 1))\n",
    "                    img = self.add_rain(img)\n",
    "                    self._save_image(dst_images, aug_name, 'both_' + file, img)\n",
    "                    self._copy_or_update_labels(label_path, dst_labels, 'both_' + file[:-4], file, update_labels_fliplr) "
   ]
  },
  {
   "cell_type": "code",
   "execution_count": 6,
   "metadata": {},
   "outputs": [
    {
     "data": {
      "application/vnd.jupyter.widget-view+json": {
       "model_id": "e3048b9e3bc441f7911c901fbb81ab2a",
       "version_major": 2,
       "version_minor": 0
      },
      "text/plain": [
       "  0%|          | 0/14761 [00:00<?, ?it/s]"
      ]
     },
     "metadata": {},
     "output_type": "display_data"
    }
   ],
   "source": [
    "src = './datasets4/custom_dataset4/merger_beforeandafter1000'\n",
    "for tvt in ['train','val','test']:\n",
    "    augmentation = Augmentation(src, tvt)\n",
    "    augmentation.random_augment()"
   ]
  }
 ],
 "metadata": {
  "kernelspec": {
   "display_name": "yolov7_python39",
   "language": "python",
   "name": "python3"
  },
  "language_info": {
   "codemirror_mode": {
    "name": "ipython",
    "version": 3
   },
   "file_extension": ".py",
   "mimetype": "text/x-python",
   "name": "python",
   "nbconvert_exporter": "python",
   "pygments_lexer": "ipython3",
   "version": "3.9.16"
  }
 },
 "nbformat": 4,
 "nbformat_minor": 2
}
