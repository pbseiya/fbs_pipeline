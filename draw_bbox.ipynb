{
 "cells": [
  {
   "cell_type": "code",
   "execution_count": 2,
   "metadata": {},
   "outputs": [],
   "source": [
    "# https://stackoverflow.com/questions/56115874/how-to-convert-bounding-box-x1-y1-x2-y2-to-yolo-style-x-y-w-h\n",
    "def yolobbox2bbox(x,y,w,h):\n",
    "    x1, y1 = round(x-w/2), round(y-h/2)\n",
    "    x2, y2 = round(x+w/2), round(y+h/2)\n",
    "    return x1, y1, x2, y2"
   ]
  },
  {
   "cell_type": "code",
   "execution_count": 3,
   "metadata": {},
   "outputs": [],
   "source": [
    "def draw_bbox(img, cl, x1, y1, x2, y2):\n",
    "    import cv2\n",
    "    font = cv2.FONT_HERSHEY_SIMPLEX\n",
    "    img = img\n",
    "    if cl == 0:\n",
    "        color = (0,255,0)\n",
    "    elif cl == 1:\n",
    "        color = (255,255,0)\n",
    "    elif cl == 2:\n",
    "        color = (255,0,0)\n",
    "    else:\n",
    "        color = (0,255,255)\n",
    "    cv2.rectangle(img, (x1, y1), (x2, y2), color, 1)\n",
    "    # cv2.rectangle(img, (width-300, height-5), (width-10, height-45), (0, 0, 0), -1)\n",
    "    # cv2.putText(img, file[:-4], (width-295, height-15),\n",
    "    #         font, 1, (255, 255, 255), 2, cv2.LINE_AA)\n",
    "    cv2.rectangle(img, (15, height-40), (400, height-80), (0, 0, 0), -1)\n",
    "    cv2.putText(img, file[:-4], (20, height-50),\n",
    "                font, 1, (255, 255, 255), 2, cv2.LINE_AA)\n",
    "    return img"
   ]
  },
  {
   "cell_type": "code",
   "execution_count": 14,
   "metadata": {},
   "outputs": [
    {
     "data": {
      "application/vnd.jupyter.widget-view+json": {
       "model_id": "65eac631a2ec4fabaeb270281cfafb87",
       "version_major": 2,
       "version_minor": 0
      },
      "text/plain": [
       "  0%|          | 0/6081 [00:00<?, ?it/s]"
      ]
     },
     "metadata": {},
     "output_type": "display_data"
    }
   ],
   "source": [
    "# src = 'V:/pongsak/pico/0_fire'\n",
    "# src = 'V:/TF2_Wasin'\n",
    "# src = 'V:/pongsak/pico/2_fire_smoke'\n",
    "# src = 'V:/pongsak/pico/noclass'\n",
    "# src = 'V:/pongsak/pico/noclass'\n",
    "# src = 'V:/data_annotation/train_valid_test_data/train/augmentation/rain_azuzre/rain'\n",
    "src = 'V:/data_annotation_v1/original/tf1/train'\n",
    "\n",
    "import os, cv2\n",
    "import numpy as np\n",
    "import matplotlib.pyplot as plt\n",
    "from tqdm.notebook import tqdm\n",
    "font = cv2.FONT_HERSHEY_SIMPLEX\n",
    "img_dir = 'images'\n",
    "label_dir = 'labels'\n",
    "# label_dir = 'Label'\n",
    "bbox_dir = 'bbox'\n",
    "img_path = os.path.join(src,img_dir)\n",
    "img_files = os.listdir(img_path)\n",
    "label_path = os.path.join(src, label_dir)\n",
    "dst = os.path.join(src,bbox_dir)\n",
    "if not os.path.exists(dst):\n",
    "    os.makedirs(dst)\n",
    "\n",
    "for file in tqdm(img_files):\n",
    "    # print(file)\n",
    "    if file.lower().endswith(('.png', '.jpg', '.jpeg', '.tiff', '.bmp', '.gif')):\n",
    "        img = cv2.imread(os.path.join(img_path,file))\n",
    "        img = cv2.cvtColor(img, cv2.COLOR_BGR2RGB)\n",
    "        height, width, color = img.shape\n",
    "        ann_path = os.path.join(label_path,f'{file[:-3]}txt')\n",
    "\n",
    "        if os.path.getsize(ann_path) > 0:\n",
    "            with open(ann_path, 'r') as txt:\n",
    "                txt = txt.read().splitlines()\n",
    "\n",
    "            for line in txt:\n",
    "                cl, x, y, w, h = [float(i) for i in line.split(' ')]\n",
    "                cl = int(cl)\n",
    "                x = round(x*width)\n",
    "                y = round(y*height)\n",
    "                w = round(w*width)\n",
    "                h = round(h*height)\n",
    "                x1, y1, x2, y2 = yolobbox2bbox(x,y,w,h)\n",
    "                img_with_bbox = draw_bbox(img, cl, x1, y1, x2, y2)\n",
    "            # print(ann_path, os.path.getsize(ann_path), cl, x1, y1, x2, y2)\n",
    "            # plt.imshow(img_with_bbox)\n",
    "            # plt.show()\n",
    "        else:\n",
    "            img_with_bbox = img.copy()\n",
    "            # cv2.rectangle(img_with_bbox, (width-300, height-5), (width-10, height-45), (0, 0, 0), -1)\n",
    "            # cv2.putText(img_with_bbox, file[:-4], (width-295, height-15),\n",
    "            #     font, 1, (255, 255, 255), 2, cv2.LINE_AA)\n",
    "            cv2.rectangle(img_with_bbox, (15, height-40), (400, height-80), (0, 0, 0), -1)\n",
    "            cv2.putText(img_with_bbox, file[:-4], (20, height-50),\n",
    "                        font, 1, (255, 255, 255), 2, cv2.LINE_AA)\n",
    "        plt.imsave(os.path.join(dst,file), img_with_bbox)"
   ]
  },
  {
   "cell_type": "markdown",
   "metadata": {},
   "source": [
    "# txt file in folder of images"
   ]
  },
  {
   "cell_type": "code",
   "execution_count": 10,
   "metadata": {},
   "outputs": [
    {
     "data": {
      "application/vnd.jupyter.widget-view+json": {
       "model_id": "a85e9fafad21487585450bd0053adc63",
       "version_major": 2,
       "version_minor": 0
      },
      "text/plain": [
       "  0%|          | 0/10634 [00:00<?, ?it/s]"
      ]
     },
     "metadata": {},
     "output_type": "display_data"
    }
   ],
   "source": [
    "# txt file in folder of images\n",
    "src = 'V:/data_annotation_v1/original/seaview_chindanai/train'\n",
    "\n",
    "import os, cv2\n",
    "import numpy as np\n",
    "import matplotlib.pyplot as plt\n",
    "from tqdm.notebook import tqdm\n",
    "font = cv2.FONT_HERSHEY_SIMPLEX\n",
    "img_dir = 'images'\n",
    "label_dir = 'images'\n",
    "# label_dir = 'Label'\n",
    "bbox_dir = 'bbox'\n",
    "img_path = os.path.join(src,img_dir)\n",
    "img_files = os.listdir(img_path)\n",
    "label_path = os.path.join(src, label_dir)\n",
    "dst = os.path.join(src,bbox_dir)\n",
    "if not os.path.exists(dst):\n",
    "    os.makedirs(dst)\n",
    "\n",
    "for file in tqdm(img_files):\n",
    "    # print(file)\n",
    "    if file.lower().endswith(('.png', '.jpg', '.jpeg', '.tiff', '.bmp', '.gif')):\n",
    "        img = cv2.imread(os.path.join(img_path,file))\n",
    "        img = cv2.cvtColor(img, cv2.COLOR_BGR2RGB)\n",
    "        height, width, color = img.shape\n",
    "        ann_path = os.path.join(label_path,f'{file[:-3]}txt')\n",
    "\n",
    "        if os.path.getsize(ann_path) > 0:\n",
    "            with open(ann_path, 'r') as txt:\n",
    "                txt = txt.read().splitlines()\n",
    "\n",
    "            for line in txt:\n",
    "                cl, x, y, w, h = [float(i) for i in line.split(' ')]\n",
    "                cl = int(cl)\n",
    "                x = round(x*width)\n",
    "                y = round(y*height)\n",
    "                w = round(w*width)\n",
    "                h = round(h*height)\n",
    "                x1, y1, x2, y2 = yolobbox2bbox(x,y,w,h)\n",
    "                img_with_bbox = draw_bbox(img, cl, x1, y1, x2, y2)\n",
    "            # print(ann_path, os.path.getsize(ann_path), cl, x1, y1, x2, y2)\n",
    "            # plt.imshow(img_with_bbox)\n",
    "            # plt.show()\n",
    "        else:\n",
    "            img_with_bbox = img.copy()\n",
    "            # cv2.rectangle(img_with_bbox, (width-300, height-5), (width-10, height-45), (0, 0, 0), -1)\n",
    "            # cv2.putText(img_with_bbox, file[:-4], (width-295, height-15),\n",
    "            #     font, 1, (255, 255, 255), 2, cv2.LINE_AA)\n",
    "            cv2.rectangle(img_with_bbox, (15, height-40), (400, height-80), (0, 0, 0), -1)\n",
    "            cv2.putText(img_with_bbox, file[:-4], (20, height-50),\n",
    "                        font, 1, (255, 255, 255), 2, cv2.LINE_AA)\n",
    "        plt.imsave(os.path.join(dst,file), img_with_bbox)"
   ]
  }
 ],
 "metadata": {
  "kernelspec": {
   "display_name": "base",
   "language": "python",
   "name": "python3"
  },
  "language_info": {
   "codemirror_mode": {
    "name": "ipython",
    "version": 3
   },
   "file_extension": ".py",
   "mimetype": "text/x-python",
   "name": "python",
   "nbconvert_exporter": "python",
   "pygments_lexer": "ipython3",
   "version": "3.9.7"
  },
  "orig_nbformat": 4
 },
 "nbformat": 4,
 "nbformat_minor": 2
}
