{
 "cells": [
  {
   "cell_type": "code",
   "execution_count": null,
   "metadata": {},
   "outputs": [],
   "source": [
    "# import os\n",
    "# import zipfile\n",
    "\n",
    "# src = 'V:/data_annotation_v1/tf2'\n",
    "\n",
    "# zf = zipfile.ZipFile(\"tf2.zip\", \"w\")\n",
    "# for dirname, subdirs, files in os.walk(src):\n",
    "#     zf.write(dirname)\n",
    "#     for filename in files:\n",
    "#         zf.write(os.path.join(dirname, filename))\n",
    "# zf.close()"
   ]
  },
  {
   "cell_type": "code",
   "execution_count": 4,
   "metadata": {},
   "outputs": [
    {
     "name": "stderr",
     "output_type": "stream",
     "text": [
      "usage: zipfile.py [-h]\n",
      "                  (-l <zipfile> | -e <zipfile> <output_dir> | -c <name> [<file> ...] | -t <zipfile>)\n",
      "zipfile.py: error: one of the arguments -l/--list -e/--extract -c/--create -t/--test is required\n"
     ]
    }
   ],
   "source": [
    "!python -m zipfile -c V:/data_annotation_v1/tf2.zip V:/data_annotation_v1/tf2/"
   ]
  },
  {
   "cell_type": "code",
   "execution_count": 7,
   "metadata": {},
   "outputs": [
    {
     "data": {
      "text/plain": [
       "'V:\\\\data_annotation_v1\\\\tf2.zip'"
      ]
     },
     "execution_count": 7,
     "metadata": {},
     "output_type": "execute_result"
    }
   ],
   "source": [
    "import shutil\n",
    "\n",
    "# shutil.make_archive('~/Desktop/zipfile', 'zip', '~/Documents/', 'foldertozip')\n",
    "shutil.make_archive('V:/data_annotation_v1/tf2', 'zip', 'V:/data_annotation_v1/tf2/')"
   ]
  },
  {
   "cell_type": "code",
   "execution_count": 2,
   "metadata": {},
   "outputs": [
    {
     "data": {
      "text/plain": [
       "'V:\\\\data_annotation_v1\\\\vdo_tf2_1_for_test.zip'"
      ]
     },
     "execution_count": 2,
     "metadata": {},
     "output_type": "execute_result"
    }
   ],
   "source": [
    "import shutil\n",
    "\n",
    "# shutil.make_archive('~/Desktop/zipfile', 'zip', '~/Documents/', 'foldertozip')\n",
    "shutil.make_archive('V:/data_annotation_v1/vdo_tf2_1_for_test', 'zip', 'V:/data_annotation_v1/tf2_1')"
   ]
  },
  {
   "cell_type": "code",
   "execution_count": 2,
   "metadata": {},
   "outputs": [
    {
     "data": {
      "text/plain": [
       "'V:\\\\data_annotation_v1\\\\tf2_1\\\\images_tf2_1.zip'"
      ]
     },
     "execution_count": 2,
     "metadata": {},
     "output_type": "execute_result"
    }
   ],
   "source": [
    "import shutil\n",
    "\n",
    "# shutil.make_archive('~/Desktop/zipfile', 'zip', '~/Documents/', 'foldertozip')\n",
    "shutil.make_archive('V:/data_annotation_v1/tf2_1/images_tf2_1', 'zip', 'V:/data_annotation_v1/tf2_1', 'images')"
   ]
  },
  {
   "cell_type": "code",
   "execution_count": null,
   "metadata": {},
   "outputs": [],
   "source": [
    "# # Zipfile with no parent folder\n",
    "# from os.path import basename \n",
    "# from os import path\n",
    "# import os\n",
    "# import zipfile\n",
    "\n",
    "# # current directory\n",
    "# script_dir = path.dirname(path.abspath(__file__))\n",
    "\n",
    "# def create_zip(file_name, file_dir):\n",
    "#     \"\"\"\n",
    "#     Function to create zip archive\n",
    "#     \"\"\"\n",
    "#     os.chdir(file_dir)\n",
    "#     zipfiles_list = ['csv', 'txt']\n",
    "#     file_name_part = file_name\n",
    "#     zip_name = '{0}.zip'.format(file_name_part)\n",
    "#     with zipfile.ZipFile(zip_name, 'w', zipfile.ZIP_DEFLATED) as zip_archive:\n",
    "#         for file_extension in zipfiles_list:\n",
    "#             full_file_path = '{0}.{1}'.format(file_name_part, file_extension)\n",
    "#             zip_archive.write(full_file_path, basename(full_file_path))\n",
    "\n",
    "# create_zip(\"first\", script_dir)"
   ]
  },
  {
   "cell_type": "code",
   "execution_count": 3,
   "metadata": {},
   "outputs": [
    {
     "name": "stderr",
     "output_type": "stream",
     "text": [
      "'zip' is not recognized as an internal or external command,\n",
      "operable program or batch file.\n"
     ]
    }
   ],
   "source": [
    "# !zip -r V:/data_annotation_v1/tf2.zip V:/data_annotation_v1/tf2.zip V:/data_annotation_v1/tf2/*"
   ]
  }
 ],
 "metadata": {
  "kernelspec": {
   "display_name": "base",
   "language": "python",
   "name": "python3"
  },
  "language_info": {
   "codemirror_mode": {
    "name": "ipython",
    "version": 3
   },
   "file_extension": ".py",
   "mimetype": "text/x-python",
   "name": "python",
   "nbconvert_exporter": "python",
   "pygments_lexer": "ipython3",
   "version": "3.9.7"
  },
  "orig_nbformat": 4
 },
 "nbformat": 4,
 "nbformat_minor": 2
}
