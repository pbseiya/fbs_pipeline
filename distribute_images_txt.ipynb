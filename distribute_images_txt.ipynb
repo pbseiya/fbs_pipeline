{
 "cells": [
  {
   "cell_type": "code",
   "execution_count": 1,
   "metadata": {},
   "outputs": [],
   "source": [
    "import os, shutil"
   ]
  },
  {
   "cell_type": "code",
   "execution_count": 2,
   "metadata": {},
   "outputs": [],
   "source": [
    "src = 'V:/data_annotation/custom_dataset1/datasets/valid'"
   ]
  },
  {
   "cell_type": "code",
   "execution_count": 16,
   "metadata": {},
   "outputs": [],
   "source": [
    "imgs = os.listdir(os.path.join(src,'images'))\n",
    "files = []\n",
    "for file in imgs:\n",
    "    if file.endswith('.jpg'): files.append(file[:-4])"
   ]
  },
  {
   "cell_type": "code",
   "execution_count": 18,
   "metadata": {},
   "outputs": [],
   "source": [
    "missing_labels = []\n",
    "labels = os.listdir(os.path.join(src,'labels'))\n",
    "lab_files = []\n",
    "for label in labels:\n",
    "    lab_files.append(label[:-4])\n",
    "for file in files:\n",
    "    if file not in lab_files:\n",
    "        missing_labels.append(file)"
   ]
  },
  {
   "cell_type": "code",
   "execution_count": 15,
   "metadata": {},
   "outputs": [
    {
     "data": {
      "text/plain": [
       "13120"
      ]
     },
     "execution_count": 15,
     "metadata": {},
     "output_type": "execute_result"
    }
   ],
   "source": [
    "len(labels)"
   ]
  },
  {
   "cell_type": "code",
   "execution_count": 19,
   "metadata": {},
   "outputs": [],
   "source": [
    "groups = []\n",
    "for group in missing_labels:\n",
    "    groups.append(group.split('_')[0])"
   ]
  },
  {
   "cell_type": "code",
   "execution_count": 20,
   "metadata": {},
   "outputs": [
    {
     "data": {
      "text/plain": [
       "{'rain'}"
      ]
     },
     "execution_count": 20,
     "metadata": {},
     "output_type": "execute_result"
    }
   ],
   "source": [
    "set(groups)"
   ]
  },
  {
   "cell_type": "code",
   "execution_count": 21,
   "metadata": {},
   "outputs": [
    {
     "data": {
      "text/plain": [
       "12885"
      ]
     },
     "execution_count": 21,
     "metadata": {},
     "output_type": "execute_result"
    }
   ],
   "source": [
    "len(groups)"
   ]
  },
  {
   "cell_type": "code",
   "execution_count": 24,
   "metadata": {},
   "outputs": [],
   "source": [
    "rain = []\n",
    "for file in files:\n",
    "    if file.startswith('rain'): rain.append(file)"
   ]
  },
  {
   "cell_type": "code",
   "execution_count": 25,
   "metadata": {},
   "outputs": [
    {
     "data": {
      "text/plain": [
       "12885"
      ]
     },
     "execution_count": 25,
     "metadata": {},
     "output_type": "execute_result"
    }
   ],
   "source": [
    "len(rain)"
   ]
  },
  {
   "cell_type": "code",
   "execution_count": 28,
   "metadata": {},
   "outputs": [
    {
     "data": {
      "text/plain": [
       "['rain_fliplr_pico_000001',\n",
       " 'rain_fliplr_pico_000014',\n",
       " 'rain_fliplr_pico_000016',\n",
       " 'rain_fliplr_pico_000022',\n",
       " 'rain_fliplr_pico_000023']"
      ]
     },
     "execution_count": 28,
     "metadata": {},
     "output_type": "execute_result"
    }
   ],
   "source": [
    "rain[:5]"
   ]
  },
  {
   "cell_type": "code",
   "execution_count": 27,
   "metadata": {},
   "outputs": [
    {
     "data": {
      "text/plain": [
       "'fliplr_pico_000001'"
      ]
     },
     "execution_count": 27,
     "metadata": {},
     "output_type": "execute_result"
    }
   ],
   "source": [
    "rain[0].split('_',1)[1]"
   ]
  },
  {
   "cell_type": "code",
   "execution_count": 30,
   "metadata": {},
   "outputs": [
    {
     "data": {
      "application/vnd.jupyter.widget-view+json": {
       "model_id": "a0b3db817ee349f892a0d15f9d8ea62b",
       "version_major": 2,
       "version_minor": 0
      },
      "text/plain": [
       "  0%|          | 0/12885 [00:00<?, ?it/s]"
      ]
     },
     "metadata": {},
     "output_type": "display_data"
    }
   ],
   "source": [
    "# from tqdm.notebook import tqdm\n",
    "# for r in tqdm(rain):\n",
    "#     shutil.copy(os.path.join(src,'labels',r.split('_',1)[1]+'.txt'),os.path.join(src,'labels','rain_'+r.split('_',1)[1]+'.txt'))"
   ]
  },
  {
   "cell_type": "code",
   "execution_count": 35,
   "metadata": {},
   "outputs": [],
   "source": [
    "cam = []\n",
    "for f in files:\n",
    "    cam.append(f.split('_')[-2])"
   ]
  },
  {
   "cell_type": "code",
   "execution_count": 36,
   "metadata": {},
   "outputs": [
    {
     "data": {
      "text/plain": [
       "{'pico', 'ps', 'seaview', 'seaview2', 'tf1', 'tf2', 'uhv'}"
      ]
     },
     "execution_count": 36,
     "metadata": {},
     "output_type": "execute_result"
    }
   ],
   "source": [
    "set(cam)"
   ]
  },
  {
   "cell_type": "code",
   "execution_count": 38,
   "metadata": {},
   "outputs": [],
   "source": [
    "main_folders = ['train','valid','test']\n",
    "folders = ['images','labels']\n",
    "cams = ['pico', 'ps', 'seaview', 'seaview2', 'tf1', 'tf2', 'uhv']\n",
    "src = 'V:/data_annotation/custom_dataset1/datasets'\n",
    "dst = 'V:/data_annotation_v1'"
   ]
  },
  {
   "cell_type": "code",
   "execution_count": 41,
   "metadata": {},
   "outputs": [
    {
     "data": {
      "application/vnd.jupyter.widget-view+json": {
       "model_id": "1c4161a535844181b6c892fef1ba9dce",
       "version_major": 2,
       "version_minor": 0
      },
      "text/plain": [
       "  0%|          | 0/7 [00:00<?, ?it/s]"
      ]
     },
     "metadata": {},
     "output_type": "display_data"
    },
    {
     "data": {
      "application/vnd.jupyter.widget-view+json": {
       "model_id": "80c8f28eee774084bb809b4305f4c6bc",
       "version_major": 2,
       "version_minor": 0
      },
      "text/plain": [
       "  0%|          | 0/2036 [00:00<?, ?it/s]"
      ]
     },
     "metadata": {},
     "output_type": "display_data"
    },
    {
     "data": {
      "application/vnd.jupyter.widget-view+json": {
       "model_id": "7d4022db398b4945b7451c3348c4d649",
       "version_major": 2,
       "version_minor": 0
      },
      "text/plain": [
       "  0%|          | 0/2036 [00:00<?, ?it/s]"
      ]
     },
     "metadata": {},
     "output_type": "display_data"
    },
    {
     "data": {
      "application/vnd.jupyter.widget-view+json": {
       "model_id": "3a4c25c54c6348cfb9d30c88b1175e48",
       "version_major": 2,
       "version_minor": 0
      },
      "text/plain": [
       "  0%|          | 0/580 [00:00<?, ?it/s]"
      ]
     },
     "metadata": {},
     "output_type": "display_data"
    },
    {
     "data": {
      "application/vnd.jupyter.widget-view+json": {
       "model_id": "fd9b4c1e4c2d4c83ab051c5d78e55672",
       "version_major": 2,
       "version_minor": 0
      },
      "text/plain": [
       "  0%|          | 0/580 [00:00<?, ?it/s]"
      ]
     },
     "metadata": {},
     "output_type": "display_data"
    },
    {
     "data": {
      "application/vnd.jupyter.widget-view+json": {
       "model_id": "542db4118a0c426e892b7345af1af2b9",
       "version_major": 2,
       "version_minor": 0
      },
      "text/plain": [
       "  0%|          | 0/288 [00:00<?, ?it/s]"
      ]
     },
     "metadata": {},
     "output_type": "display_data"
    },
    {
     "data": {
      "application/vnd.jupyter.widget-view+json": {
       "model_id": "e6aa103ea54b482c8da713737d6ce189",
       "version_major": 2,
       "version_minor": 0
      },
      "text/plain": [
       "  0%|          | 0/288 [00:00<?, ?it/s]"
      ]
     },
     "metadata": {},
     "output_type": "display_data"
    },
    {
     "data": {
      "application/vnd.jupyter.widget-view+json": {
       "model_id": "535ce46ef3d34c53a8170ee318f96197",
       "version_major": 2,
       "version_minor": 0
      },
      "text/plain": [
       "  0%|          | 0/2020 [00:00<?, ?it/s]"
      ]
     },
     "metadata": {},
     "output_type": "display_data"
    },
    {
     "data": {
      "application/vnd.jupyter.widget-view+json": {
       "model_id": "f9d06c87c083469580415e2267140e9d",
       "version_major": 2,
       "version_minor": 0
      },
      "text/plain": [
       "  0%|          | 0/2020 [00:00<?, ?it/s]"
      ]
     },
     "metadata": {},
     "output_type": "display_data"
    },
    {
     "data": {
      "application/vnd.jupyter.widget-view+json": {
       "model_id": "e799c79235cd4cb6b17b7b863740a119",
       "version_major": 2,
       "version_minor": 0
      },
      "text/plain": [
       "  0%|          | 0/576 [00:00<?, ?it/s]"
      ]
     },
     "metadata": {},
     "output_type": "display_data"
    },
    {
     "data": {
      "application/vnd.jupyter.widget-view+json": {
       "model_id": "8fac039dcb9c4fa0bb091bd21d47dd3f",
       "version_major": 2,
       "version_minor": 0
      },
      "text/plain": [
       "  0%|          | 0/576 [00:00<?, ?it/s]"
      ]
     },
     "metadata": {},
     "output_type": "display_data"
    },
    {
     "data": {
      "application/vnd.jupyter.widget-view+json": {
       "model_id": "ff580efada6e424b9246e7965831fadb",
       "version_major": 2,
       "version_minor": 0
      },
      "text/plain": [
       "  0%|          | 0/288 [00:00<?, ?it/s]"
      ]
     },
     "metadata": {},
     "output_type": "display_data"
    },
    {
     "data": {
      "application/vnd.jupyter.widget-view+json": {
       "model_id": "459ddc530b424f20bc9862aaad52299f",
       "version_major": 2,
       "version_minor": 0
      },
      "text/plain": [
       "  0%|          | 0/288 [00:00<?, ?it/s]"
      ]
     },
     "metadata": {},
     "output_type": "display_data"
    },
    {
     "data": {
      "application/vnd.jupyter.widget-view+json": {
       "model_id": "72b80a9d6b4745ffb8c28287ace55199",
       "version_major": 2,
       "version_minor": 0
      },
      "text/plain": [
       "  0%|          | 0/42544 [00:00<?, ?it/s]"
      ]
     },
     "metadata": {},
     "output_type": "display_data"
    },
    {
     "data": {
      "application/vnd.jupyter.widget-view+json": {
       "model_id": "3c748ea25ce142c6aa6f0738747799e0",
       "version_major": 2,
       "version_minor": 0
      },
      "text/plain": [
       "  0%|          | 0/42544 [00:00<?, ?it/s]"
      ]
     },
     "metadata": {},
     "output_type": "display_data"
    },
    {
     "data": {
      "application/vnd.jupyter.widget-view+json": {
       "model_id": "bae58d9fa1174049ac0133f8a8f9285b",
       "version_major": 2,
       "version_minor": 0
      },
      "text/plain": [
       "  0%|          | 0/12152 [00:00<?, ?it/s]"
      ]
     },
     "metadata": {},
     "output_type": "display_data"
    },
    {
     "data": {
      "application/vnd.jupyter.widget-view+json": {
       "model_id": "1875a2a708f64584aff721556b5496ac",
       "version_major": 2,
       "version_minor": 0
      },
      "text/plain": [
       "  0%|          | 0/12152 [00:00<?, ?it/s]"
      ]
     },
     "metadata": {},
     "output_type": "display_data"
    },
    {
     "data": {
      "application/vnd.jupyter.widget-view+json": {
       "model_id": "0617ec6147a64d268bb36a3eed698020",
       "version_major": 2,
       "version_minor": 0
      },
      "text/plain": [
       "  0%|          | 0/6076 [00:00<?, ?it/s]"
      ]
     },
     "metadata": {},
     "output_type": "display_data"
    },
    {
     "data": {
      "application/vnd.jupyter.widget-view+json": {
       "model_id": "268049de93b140db9cf0bdc8ead3ed76",
       "version_major": 2,
       "version_minor": 0
      },
      "text/plain": [
       "  0%|          | 0/6076 [00:00<?, ?it/s]"
      ]
     },
     "metadata": {},
     "output_type": "display_data"
    },
    {
     "data": {
      "application/vnd.jupyter.widget-view+json": {
       "model_id": "913d70fa1aa2432492debfde372eb0b9",
       "version_major": 2,
       "version_minor": 0
      },
      "text/plain": [
       "  0%|          | 0/7476 [00:00<?, ?it/s]"
      ]
     },
     "metadata": {},
     "output_type": "display_data"
    },
    {
     "data": {
      "application/vnd.jupyter.widget-view+json": {
       "model_id": "3ce1812ccd63422192739194e429383b",
       "version_major": 2,
       "version_minor": 0
      },
      "text/plain": [
       "  0%|          | 0/7476 [00:00<?, ?it/s]"
      ]
     },
     "metadata": {},
     "output_type": "display_data"
    },
    {
     "data": {
      "application/vnd.jupyter.widget-view+json": {
       "model_id": "0aae66618a944bda9be7794567fc53b0",
       "version_major": 2,
       "version_minor": 0
      },
      "text/plain": [
       "  0%|          | 0/2136 [00:00<?, ?it/s]"
      ]
     },
     "metadata": {},
     "output_type": "display_data"
    },
    {
     "data": {
      "application/vnd.jupyter.widget-view+json": {
       "model_id": "94c82a0fbcdc4e5fbd2c127a27a18d81",
       "version_major": 2,
       "version_minor": 0
      },
      "text/plain": [
       "  0%|          | 0/2136 [00:00<?, ?it/s]"
      ]
     },
     "metadata": {},
     "output_type": "display_data"
    },
    {
     "data": {
      "application/vnd.jupyter.widget-view+json": {
       "model_id": "6cdc10f4e2af4703b76339de0b0e30c0",
       "version_major": 2,
       "version_minor": 0
      },
      "text/plain": [
       "  0%|          | 0/1068 [00:00<?, ?it/s]"
      ]
     },
     "metadata": {},
     "output_type": "display_data"
    },
    {
     "data": {
      "application/vnd.jupyter.widget-view+json": {
       "model_id": "d21f128fb8864ff4969bc13228fd1631",
       "version_major": 2,
       "version_minor": 0
      },
      "text/plain": [
       "  0%|          | 0/1068 [00:00<?, ?it/s]"
      ]
     },
     "metadata": {},
     "output_type": "display_data"
    },
    {
     "data": {
      "application/vnd.jupyter.widget-view+json": {
       "model_id": "d157742a85e746eaad55fbc1ab689798",
       "version_major": 2,
       "version_minor": 0
      },
      "text/plain": [
       "  0%|          | 0/37660 [00:00<?, ?it/s]"
      ]
     },
     "metadata": {},
     "output_type": "display_data"
    },
    {
     "data": {
      "application/vnd.jupyter.widget-view+json": {
       "model_id": "14582aaf3a5d487483d3feb71356c6d3",
       "version_major": 2,
       "version_minor": 0
      },
      "text/plain": [
       "  0%|          | 0/37660 [00:00<?, ?it/s]"
      ]
     },
     "metadata": {},
     "output_type": "display_data"
    },
    {
     "data": {
      "application/vnd.jupyter.widget-view+json": {
       "model_id": "48bd96221e0f4b0f9137d186dd464ce9",
       "version_major": 2,
       "version_minor": 0
      },
      "text/plain": [
       "  0%|          | 0/10756 [00:00<?, ?it/s]"
      ]
     },
     "metadata": {},
     "output_type": "display_data"
    },
    {
     "data": {
      "application/vnd.jupyter.widget-view+json": {
       "model_id": "4f715c0c407d4d98afb82e02ff4db512",
       "version_major": 2,
       "version_minor": 0
      },
      "text/plain": [
       "  0%|          | 0/10756 [00:00<?, ?it/s]"
      ]
     },
     "metadata": {},
     "output_type": "display_data"
    },
    {
     "data": {
      "application/vnd.jupyter.widget-view+json": {
       "model_id": "9b94d75415e44359811979f88fd79f08",
       "version_major": 2,
       "version_minor": 0
      },
      "text/plain": [
       "  0%|          | 0/5376 [00:00<?, ?it/s]"
      ]
     },
     "metadata": {},
     "output_type": "display_data"
    },
    {
     "data": {
      "application/vnd.jupyter.widget-view+json": {
       "model_id": "ac57e054cff34230a615b7230113a21a",
       "version_major": 2,
       "version_minor": 0
      },
      "text/plain": [
       "  0%|          | 0/5376 [00:00<?, ?it/s]"
      ]
     },
     "metadata": {},
     "output_type": "display_data"
    },
    {
     "data": {
      "application/vnd.jupyter.widget-view+json": {
       "model_id": "0d78dab5be42439287f389eda560e8e6",
       "version_major": 2,
       "version_minor": 0
      },
      "text/plain": [
       "  0%|          | 0/5224 [00:00<?, ?it/s]"
      ]
     },
     "metadata": {},
     "output_type": "display_data"
    },
    {
     "data": {
      "application/vnd.jupyter.widget-view+json": {
       "model_id": "0c010806a6ca40d486af25a1473595e7",
       "version_major": 2,
       "version_minor": 0
      },
      "text/plain": [
       "  0%|          | 0/5224 [00:00<?, ?it/s]"
      ]
     },
     "metadata": {},
     "output_type": "display_data"
    },
    {
     "data": {
      "application/vnd.jupyter.widget-view+json": {
       "model_id": "f872939c3c0a449d84b1bcce8d1338a2",
       "version_major": 2,
       "version_minor": 0
      },
      "text/plain": [
       "  0%|          | 0/1425 [00:00<?, ?it/s]"
      ]
     },
     "metadata": {},
     "output_type": "display_data"
    },
    {
     "data": {
      "application/vnd.jupyter.widget-view+json": {
       "model_id": "ff6d4e41d36d4ade8488e80ae3f6528e",
       "version_major": 2,
       "version_minor": 0
      },
      "text/plain": [
       "  0%|          | 0/1425 [00:00<?, ?it/s]"
      ]
     },
     "metadata": {},
     "output_type": "display_data"
    },
    {
     "data": {
      "application/vnd.jupyter.widget-view+json": {
       "model_id": "f9c4f68846474813ad24dbb1d5bed8ba",
       "version_major": 2,
       "version_minor": 0
      },
      "text/plain": [
       "  0%|          | 0/744 [00:00<?, ?it/s]"
      ]
     },
     "metadata": {},
     "output_type": "display_data"
    },
    {
     "data": {
      "application/vnd.jupyter.widget-view+json": {
       "model_id": "de0a8ab91d3d4264a777926b19ef7569",
       "version_major": 2,
       "version_minor": 0
      },
      "text/plain": [
       "  0%|          | 0/744 [00:00<?, ?it/s]"
      ]
     },
     "metadata": {},
     "output_type": "display_data"
    },
    {
     "data": {
      "application/vnd.jupyter.widget-view+json": {
       "model_id": "29cc2e265fe047bf804eaa6e640b7912",
       "version_major": 2,
       "version_minor": 0
      },
      "text/plain": [
       "  0%|          | 0/2408 [00:00<?, ?it/s]"
      ]
     },
     "metadata": {},
     "output_type": "display_data"
    },
    {
     "data": {
      "application/vnd.jupyter.widget-view+json": {
       "model_id": "c136a2789c87489da4e3c7cdbeec346e",
       "version_major": 2,
       "version_minor": 0
      },
      "text/plain": [
       "  0%|          | 0/2408 [00:00<?, ?it/s]"
      ]
     },
     "metadata": {},
     "output_type": "display_data"
    },
    {
     "data": {
      "application/vnd.jupyter.widget-view+json": {
       "model_id": "bbb173d0d0934210b84ab729618f9e15",
       "version_major": 2,
       "version_minor": 0
      },
      "text/plain": [
       "  0%|          | 0/516 [00:00<?, ?it/s]"
      ]
     },
     "metadata": {},
     "output_type": "display_data"
    },
    {
     "data": {
      "application/vnd.jupyter.widget-view+json": {
       "model_id": "2d541b44a9a8454eb52e28bb79654d43",
       "version_major": 2,
       "version_minor": 0
      },
      "text/plain": [
       "  0%|          | 0/516 [00:00<?, ?it/s]"
      ]
     },
     "metadata": {},
     "output_type": "display_data"
    },
    {
     "data": {
      "application/vnd.jupyter.widget-view+json": {
       "model_id": "e5bb7ba22a9e49649fa6948c40d2f640",
       "version_major": 2,
       "version_minor": 0
      },
      "text/plain": [
       "  0%|          | 0/344 [00:00<?, ?it/s]"
      ]
     },
     "metadata": {},
     "output_type": "display_data"
    },
    {
     "data": {
      "application/vnd.jupyter.widget-view+json": {
       "model_id": "16f473053b274cc5a1337b4b3c392984",
       "version_major": 2,
       "version_minor": 0
      },
      "text/plain": [
       "  0%|          | 0/344 [00:00<?, ?it/s]"
      ]
     },
     "metadata": {},
     "output_type": "display_data"
    }
   ],
   "source": [
    "for cam in tqdm(cams):\n",
    "    print(cam)\n",
    "    for mf in main_folders:\n",
    "        for folder in folders:\n",
    "            if not os.path.exists(os.path.join(dst,cam,mf,folder)):\n",
    "                os.makedirs(os.path.join(dst,cam,mf,folder))\n",
    "            file_in_folder = []\n",
    "            for f in os.listdir(os.path.join(src,mf,folder)):\n",
    "                if f.__contains__(cam):\n",
    "                    file_in_folder.append(f)     \n",
    "            for f in tqdm(file_in_folder):\n",
    "                shutil.copy(os.path.join(src,mf,folder,f), os.path.join(dst,cam,mf,folder,f))"
   ]
  },
  {
   "cell_type": "markdown",
   "metadata": {},
   "source": [
    "# Only seaview and seaview2"
   ]
  },
  {
   "cell_type": "code",
   "execution_count": 3,
   "metadata": {},
   "outputs": [],
   "source": [
    "import os, shutil\n",
    "from tqdm.notebook import tqdm\n",
    "main_folders = ['train','valid','test']\n",
    "folders = ['images','labels']\n",
    "cams = ['seaview']\n",
    "src = 'V:/data_annotation/custom_dataset1/datasets'\n",
    "dst = 'V:/data_annotation_v1'"
   ]
  },
  {
   "cell_type": "code",
   "execution_count": 4,
   "metadata": {},
   "outputs": [
    {
     "data": {
      "application/vnd.jupyter.widget-view+json": {
       "model_id": "0814a7b1cf21498e877c6e681d17f2c2",
       "version_major": 2,
       "version_minor": 0
      },
      "text/plain": [
       "  0%|          | 0/1 [00:00<?, ?it/s]"
      ]
     },
     "metadata": {},
     "output_type": "display_data"
    },
    {
     "name": "stdout",
     "output_type": "stream",
     "text": [
      "seaview\n"
     ]
    },
    {
     "data": {
      "application/vnd.jupyter.widget-view+json": {
       "model_id": "22eccbd82b7446769052537e10658a44",
       "version_major": 2,
       "version_minor": 0
      },
      "text/plain": [
       "  0%|          | 0/42544 [00:00<?, ?it/s]"
      ]
     },
     "metadata": {},
     "output_type": "display_data"
    },
    {
     "data": {
      "application/vnd.jupyter.widget-view+json": {
       "model_id": "8d3fd122901443b58c5a86b8da1a7edc",
       "version_major": 2,
       "version_minor": 0
      },
      "text/plain": [
       "  0%|          | 0/42544 [00:00<?, ?it/s]"
      ]
     },
     "metadata": {},
     "output_type": "display_data"
    },
    {
     "data": {
      "application/vnd.jupyter.widget-view+json": {
       "model_id": "6d5267bea40e49deb3012ff7cc89227c",
       "version_major": 2,
       "version_minor": 0
      },
      "text/plain": [
       "  0%|          | 0/12152 [00:00<?, ?it/s]"
      ]
     },
     "metadata": {},
     "output_type": "display_data"
    },
    {
     "data": {
      "application/vnd.jupyter.widget-view+json": {
       "model_id": "fbbb58a41bc041129f60c43e912574f7",
       "version_major": 2,
       "version_minor": 0
      },
      "text/plain": [
       "  0%|          | 0/12152 [00:00<?, ?it/s]"
      ]
     },
     "metadata": {},
     "output_type": "display_data"
    },
    {
     "data": {
      "application/vnd.jupyter.widget-view+json": {
       "model_id": "48e89e6afeb24ec9849c6ad3ef0deb05",
       "version_major": 2,
       "version_minor": 0
      },
      "text/plain": [
       "  0%|          | 0/6076 [00:00<?, ?it/s]"
      ]
     },
     "metadata": {},
     "output_type": "display_data"
    },
    {
     "data": {
      "application/vnd.jupyter.widget-view+json": {
       "model_id": "117b793346694b8484d9485d766083f3",
       "version_major": 2,
       "version_minor": 0
      },
      "text/plain": [
       "  0%|          | 0/6076 [00:00<?, ?it/s]"
      ]
     },
     "metadata": {},
     "output_type": "display_data"
    }
   ],
   "source": [
    "for cam in tqdm(cams):\n",
    "    print(cam)\n",
    "    for mf in main_folders:\n",
    "        for folder in folders:\n",
    "            if not os.path.exists(os.path.join(dst,cam,mf,folder)):\n",
    "                os.makedirs(os.path.join(dst,cam,mf,folder))\n",
    "            file_in_folder = []\n",
    "            for f in os.listdir(os.path.join(src,mf,folder)):\n",
    "                if f.__contains__(cam):\n",
    "                    file_in_folder.append(f)     \n",
    "            for f in tqdm(file_in_folder):\n",
    "                shutil.copy(os.path.join(src,mf,folder,f), os.path.join(dst,cam,mf,folder,f))"
   ]
  },
  {
   "cell_type": "code",
   "execution_count": 13,
   "metadata": {},
   "outputs": [],
   "source": [
    "import os, shutil\n",
    "from tqdm.notebook import tqdm"
   ]
  },
  {
   "cell_type": "code",
   "execution_count": null,
   "metadata": {},
   "outputs": [],
   "source": [
    "shutil.copytree('V:/data_annotation_v1_copy/seaview', 'v:/data_annotation_v1/seaview', dirs_exist_ok=True)"
   ]
  },
  {
   "cell_type": "code",
   "execution_count": null,
   "metadata": {},
   "outputs": [],
   "source": [
    "shutil.copytree('v:/data_annotation_v1/seaview/train/train/', 'v:/data_annotation_v1/seaview/train', dirs_exist_ok=True)"
   ]
  },
  {
   "cell_type": "code",
   "execution_count": 14,
   "metadata": {},
   "outputs": [],
   "source": [
    "shutil.rmtree('v:/data_annotation_v1/seaview/train/train/')"
   ]
  },
  {
   "cell_type": "code",
   "execution_count": null,
   "metadata": {},
   "outputs": [],
   "source": [
    "shutil.move('v:/data_annotation_v1/seaview/train/train/', 'v:/data_annotation_v1/seaview/')"
   ]
  },
  {
   "cell_type": "markdown",
   "metadata": {},
   "source": [
    "# Copy txt to images"
   ]
  },
  {
   "cell_type": "code",
   "execution_count": 23,
   "metadata": {},
   "outputs": [
    {
     "data": {
      "application/vnd.jupyter.widget-view+json": {
       "model_id": "5c909f3891cb4c1c871dae1d17121a5c",
       "version_major": 2,
       "version_minor": 0
      },
      "text/plain": [
       "  0%|          | 0/744 [00:00<?, ?it/s]"
      ]
     },
     "metadata": {},
     "output_type": "display_data"
    }
   ],
   "source": [
    "import os, shutil\n",
    "from tqdm.notebook import tqdm\n",
    "src = 'v:/data_annotation_v1/tf2/test/labels/'\n",
    "dst = 'v:/data_annotation_v1/tf2/test/images/'\n",
    "labels = os.listdir(os.path.join(src))\n",
    "for label in tqdm(labels):\n",
    "    shutil.copy(os.path.join(src,label), os.path.join(dst,label))"
   ]
  },
  {
   "cell_type": "markdown",
   "metadata": {},
   "source": [
    "# Split seaveiw and seaview2"
   ]
  },
  {
   "cell_type": "code",
   "execution_count": null,
   "metadata": {},
   "outputs": [],
   "source": [
    "main_folders = ['train','valid','test']\n",
    "folders = ['images','labels']\n",
    "cams = ['seaview']\n",
    "views = ['seaview_','seaview2']\n",
    "prefix = ['fliplr_','rain_fliplr_','rain_','']\n",
    "src = 'V:/data_annotation_v1'\n",
    "dst = 'V:/data_annotation_v1/seaview_nutthapol'"
   ]
  },
  {
   "cell_type": "code",
   "execution_count": null,
   "metadata": {},
   "outputs": [],
   "source": [
    "for cam in cams:\n",
    "    for mf in tqdm(main_folders):\n",
    "        seaview,seaview2 = [],[]\n",
    "        print(mf)\n",
    "        for folder in folders[:1]:\n",
    "            if not os.path.exists(os.path.join(dst,mf,folders[0])):\n",
    "                os.makedirs(os.path.join(dst,mf,folders[0]))\n",
    "            if not os.path.exists(os.path.join(dst,mf,folders[1])):\n",
    "                os.makedirs(os.path.join(dst,mf,folders[1]))\n",
    "            files = os.listdir(os.path.join(src,cam,mf,folders[0]))\n",
    "            for file in files:\n",
    "                if file.startswith(views[0]):\n",
    "                    seaview.append(file)\n",
    "                if file.startswith(views[1]):\n",
    "                    seaview2.append(file)\n",
    "        seaview.sort()\n",
    "        seaview2.sort()\n",
    "        for pf in tqdm(prefix):\n",
    "            print(pf)\n",
    "            for sv1 in tqdm(seaview[len(seaview)//2:]):\n",
    "                try:\n",
    "                    # print(f'move {os.path.join(src,cam,mf,folders[0],pf+sv1)} >>> {os.path.join(dst,mf,folders[0],pf+sv1)}')\n",
    "                    shutil.move(os.path.join(src,cam,mf,folders[0],pf+sv1), os.path.join(dst,mf,folders[0],pf+sv1))\n",
    "                    # print(f'move {os.path.join(src,cam,mf,folders[1],pf+sv1[:-3])}txt >>> {os.path.join(dst,mf,folders[1],pf+sv1[:-3])}txt')\n",
    "                    shutil.move(os.path.join(src,cam,mf,folders[1],pf+sv1[:-3]+'txt'), os.path.join(dst,mf,folders[1],pf+sv1[:-3]+'txt'))\n",
    "                except:\n",
    "                    pass\n",
    "            for sv2 in tqdm(seaview2[len(seaview2)//2:]):\n",
    "                try:\n",
    "                    # print(f'move {os.path.join(src,cam,mf,folders[0],pf+sv2)} >>> {os.path.join(dst,mf,folders[0],pf+sv2)}')\n",
    "                    shutil.move(os.path.join(src,cam,mf,folders[0],pf+sv2), os.path.join(dst,mf,folders[0],pf+sv2))\n",
    "                    # print(f'move {os.path.join(src,cam,mf,folders[1],pf+sv2[:-3])}txt >>> {os.path.join(dst,mf,folders[1],pf+sv2[:-3])}txt')\n",
    "                    shutil.move(os.path.join(src,cam,mf,folders[1],pf+sv2[:-3]+'txt'), os.path.join(dst,mf,folders[1],pf+sv2[:-3]+'txt'))\n",
    "                except:\n",
    "                    pass"
   ]
  },
  {
   "cell_type": "markdown",
   "metadata": {},
   "source": [
    "# Split original images without augmentation"
   ]
  },
  {
   "cell_type": "code",
   "execution_count": 15,
   "metadata": {},
   "outputs": [
    {
     "name": "stdout",
     "output_type": "stream",
     "text": [
      "seaview_chindanai\n"
     ]
    },
    {
     "data": {
      "application/vnd.jupyter.widget-view+json": {
       "model_id": "34f4ff45c50741d18aba814dbf7ba908",
       "version_major": 2,
       "version_minor": 0
      },
      "text/plain": [
       "  0%|          | 0/3 [00:00<?, ?it/s]"
      ]
     },
     "metadata": {},
     "output_type": "display_data"
    },
    {
     "name": "stdout",
     "output_type": "stream",
     "text": [
      "train\n"
     ]
    },
    {
     "data": {
      "application/vnd.jupyter.widget-view+json": {
       "model_id": "9895a747b30646a5adf993f5c13dd2a2",
       "version_major": 2,
       "version_minor": 0
      },
      "text/plain": [
       "Coping :   0%|          | 0/5317 [00:00<?, ?it/s]"
      ]
     },
     "metadata": {},
     "output_type": "display_data"
    },
    {
     "name": "stdout",
     "output_type": "stream",
     "text": [
      "valid\n"
     ]
    },
    {
     "data": {
      "application/vnd.jupyter.widget-view+json": {
       "model_id": "23e96f06409042b79f2ff9bafad42a9e",
       "version_major": 2,
       "version_minor": 0
      },
      "text/plain": [
       "Coping :   0%|          | 0/1519 [00:00<?, ?it/s]"
      ]
     },
     "metadata": {},
     "output_type": "display_data"
    },
    {
     "name": "stdout",
     "output_type": "stream",
     "text": [
      "test\n"
     ]
    },
    {
     "data": {
      "application/vnd.jupyter.widget-view+json": {
       "model_id": "df55c3427c124cb5b6503332381c2ea8",
       "version_major": 2,
       "version_minor": 0
      },
      "text/plain": [
       "Coping :   0%|          | 0/759 [00:00<?, ?it/s]"
      ]
     },
     "metadata": {},
     "output_type": "display_data"
    },
    {
     "name": "stdout",
     "output_type": "stream",
     "text": [
      "seaview_nutthapol\n"
     ]
    },
    {
     "data": {
      "application/vnd.jupyter.widget-view+json": {
       "model_id": "07ccfe743c324c57b44e8a531027eee3",
       "version_major": 2,
       "version_minor": 0
      },
      "text/plain": [
       "  0%|          | 0/3 [00:00<?, ?it/s]"
      ]
     },
     "metadata": {},
     "output_type": "display_data"
    },
    {
     "name": "stdout",
     "output_type": "stream",
     "text": [
      "train\n"
     ]
    },
    {
     "data": {
      "application/vnd.jupyter.widget-view+json": {
       "model_id": "f52aa3f8f3d34a1095da75a5191abe18",
       "version_major": 2,
       "version_minor": 0
      },
      "text/plain": [
       "Coping :   0%|          | 0/5319 [00:00<?, ?it/s]"
      ]
     },
     "metadata": {},
     "output_type": "display_data"
    },
    {
     "name": "stdout",
     "output_type": "stream",
     "text": [
      "valid\n"
     ]
    },
    {
     "data": {
      "application/vnd.jupyter.widget-view+json": {
       "model_id": "75ad3998ce144605b0cfe25310a79be4",
       "version_major": 2,
       "version_minor": 0
      },
      "text/plain": [
       "Coping :   0%|          | 0/1519 [00:00<?, ?it/s]"
      ]
     },
     "metadata": {},
     "output_type": "display_data"
    },
    {
     "name": "stdout",
     "output_type": "stream",
     "text": [
      "test\n"
     ]
    },
    {
     "data": {
      "application/vnd.jupyter.widget-view+json": {
       "model_id": "0224eec30cdf4dbf9bbeac0f4e3a468c",
       "version_major": 2,
       "version_minor": 0
      },
      "text/plain": [
       "Coping :   0%|          | 0/760 [00:00<?, ?it/s]"
      ]
     },
     "metadata": {},
     "output_type": "display_data"
    }
   ],
   "source": [
    "import os, shutil\n",
    "from tqdm.notebook import tqdm\n",
    "main_folders = ['train','valid','test']\n",
    "folders = ['images','labels']\n",
    "cams = ['seaview_chindanai','seaview_nutthapol']\n",
    "prefix = ['fliplr_','rain_fliplr_','rain_','']\n",
    "src = 'V:/data_annotation_v1'\n",
    "dst = 'V:/data_annotation_v1/original'\n",
    "\n",
    "for cam in cams:\n",
    "    print(cam)\n",
    "    # src = os.path.join(src,cam)\n",
    "    # dst = os.path.join(dst,cam)\n",
    "    for mf in tqdm(main_folders):\n",
    "        print(mf)\n",
    "        for folder in folders[:1]:\n",
    "            if not os.path.exists(os.path.join(dst,cam,mf,folders[0])):\n",
    "                os.makedirs(os.path.join(dst,cam,mf,folders[0]))\n",
    "            files = os.listdir(os.path.join(src,cam,mf,folders[0]))\n",
    "            original_files = []\n",
    "            for file in files:\n",
    "                # if file.startswith(cam) and file.endswith('jpg'):\n",
    "                if file.startswith('seaview') and file.endswith('jpg'):\n",
    "                    original_files.append(file)\n",
    "            for file in tqdm(original_files, desc='Coping '):\n",
    "                shutil.copy(os.path.join(src,cam,mf,folders[0],file), os.path.join(dst,cam,mf,folders[0],file))\n",
    "                shutil.copy(os.path.join(src,cam,mf,folders[1],file[:-3]+'txt'), os.path.join(dst,cam,mf,folders[0],file[:-3]+'txt'))\n",
    "\n"
   ]
  },
  {
   "cell_type": "code",
   "execution_count": 3,
   "metadata": {},
   "outputs": [
    {
     "data": {
      "text/plain": [
       "['tf1_000000.jpg',\n",
       " 'tf1_000000.txt',\n",
       " 'tf1_000002.jpg',\n",
       " 'tf1_000002.txt',\n",
       " 'tf1_000005.jpg',\n",
       " 'tf1_000005.txt',\n",
       " 'tf1_000009.jpg',\n",
       " 'tf1_000009.txt',\n",
       " 'tf1_000010.jpg',\n",
       " 'tf1_000010.txt',\n",
       " 'tf1_000012.jpg',\n",
       " 'tf1_000012.txt',\n",
       " 'tf1_000013.jpg',\n",
       " 'tf1_000013.txt',\n",
       " 'tf1_000014.jpg',\n",
       " 'tf1_000014.txt',\n",
       " 'tf1_000015.jpg',\n",
       " 'tf1_000015.txt',\n",
       " 'tf1_000019.jpg',\n",
       " 'tf1_000019.txt',\n",
       " 'tf1_000020.jpg',\n",
       " 'tf1_000020.txt',\n",
       " 'tf1_000021.jpg',\n",
       " 'tf1_000021.txt',\n",
       " 'tf1_000022.jpg',\n",
       " 'tf1_000022.txt',\n",
       " 'tf1_000023.jpg',\n",
       " 'tf1_000023.txt',\n",
       " 'tf1_000025.jpg',\n",
       " 'tf1_000025.txt',\n",
       " 'tf1_000027.jpg',\n",
       " 'tf1_000027.txt',\n",
       " 'tf1_000028.jpg',\n",
       " 'tf1_000028.txt',\n",
       " 'tf1_000029.jpg',\n",
       " 'tf1_000029.txt',\n",
       " 'tf1_000031.jpg',\n",
       " 'tf1_000031.txt',\n",
       " 'tf1_000032.jpg',\n",
       " 'tf1_000032.txt',\n",
       " 'tf1_000033.jpg',\n",
       " 'tf1_000033.txt',\n",
       " 'tf1_000034.jpg',\n",
       " 'tf1_000034.txt',\n",
       " 'tf1_000035.jpg',\n",
       " 'tf1_000035.txt',\n",
       " 'tf1_000036.jpg',\n",
       " 'tf1_000036.txt',\n",
       " 'tf1_000037.jpg',\n",
       " 'tf1_000037.txt',\n",
       " 'tf1_000039.jpg',\n",
       " 'tf1_000039.txt',\n",
       " 'tf1_000041.jpg',\n",
       " 'tf1_000041.txt',\n",
       " 'tf1_000042.jpg',\n",
       " 'tf1_000042.txt',\n",
       " 'tf1_000043.jpg',\n",
       " 'tf1_000043.txt',\n",
       " 'tf1_000044.jpg',\n",
       " 'tf1_000044.txt',\n",
       " 'tf1_000046.jpg',\n",
       " 'tf1_000046.txt',\n",
       " 'tf1_000047.jpg',\n",
       " 'tf1_000047.txt',\n",
       " 'tf1_000048.jpg',\n",
       " 'tf1_000048.txt',\n",
       " 'tf1_000049.jpg',\n",
       " 'tf1_000049.txt',\n",
       " 'tf1_000051.jpg',\n",
       " 'tf1_000051.txt',\n",
       " 'tf1_000053.jpg',\n",
       " 'tf1_000053.txt',\n",
       " 'tf1_000054.jpg',\n",
       " 'tf1_000054.txt',\n",
       " 'tf1_000056.jpg',\n",
       " 'tf1_000056.txt',\n",
       " 'tf1_000057.jpg',\n",
       " 'tf1_000057.txt',\n",
       " 'tf1_000058.jpg',\n",
       " 'tf1_000058.txt',\n",
       " 'tf1_000059.jpg',\n",
       " 'tf1_000059.txt',\n",
       " 'tf1_000062.jpg',\n",
       " 'tf1_000062.txt',\n",
       " 'tf1_000064.jpg',\n",
       " 'tf1_000064.txt',\n",
       " 'tf1_000065.jpg',\n",
       " 'tf1_000065.txt',\n",
       " 'tf1_000066.jpg',\n",
       " 'tf1_000066.txt',\n",
       " 'tf1_000068.jpg',\n",
       " 'tf1_000068.txt',\n",
       " 'tf1_000069.jpg',\n",
       " 'tf1_000069.txt',\n",
       " 'tf1_000070.jpg',\n",
       " 'tf1_000070.txt',\n",
       " 'tf1_000071.jpg',\n",
       " 'tf1_000071.txt',\n",
       " 'tf1_000072.jpg',\n",
       " 'tf1_000072.txt',\n",
       " 'tf1_000074.jpg',\n",
       " 'tf1_000074.txt',\n",
       " 'tf1_000075.jpg',\n",
       " 'tf1_000075.txt',\n",
       " 'tf1_000076.jpg',\n",
       " 'tf1_000076.txt',\n",
       " 'tf1_000077.jpg',\n",
       " 'tf1_000077.txt',\n",
       " 'tf1_000078.jpg',\n",
       " 'tf1_000078.txt',\n",
       " 'tf1_000079.jpg',\n",
       " 'tf1_000079.txt',\n",
       " 'tf1_000081.jpg',\n",
       " 'tf1_000081.txt',\n",
       " 'tf1_000082.jpg',\n",
       " 'tf1_000082.txt',\n",
       " 'tf1_000083.jpg',\n",
       " 'tf1_000083.txt',\n",
       " 'tf1_000085.jpg',\n",
       " 'tf1_000085.txt',\n",
       " 'tf1_000086.jpg',\n",
       " 'tf1_000086.txt',\n",
       " 'tf1_000087.jpg',\n",
       " 'tf1_000087.txt',\n",
       " 'tf1_000088.jpg',\n",
       " 'tf1_000088.txt',\n",
       " 'tf1_000089.jpg',\n",
       " 'tf1_000089.txt',\n",
       " 'tf1_000090.jpg',\n",
       " 'tf1_000090.txt',\n",
       " 'tf1_000091.jpg',\n",
       " 'tf1_000091.txt',\n",
       " 'tf1_000093.jpg',\n",
       " 'tf1_000093.txt',\n",
       " 'tf1_000094.jpg',\n",
       " 'tf1_000094.txt',\n",
       " 'tf1_000095.jpg',\n",
       " 'tf1_000095.txt',\n",
       " 'tf1_000096.jpg',\n",
       " 'tf1_000096.txt',\n",
       " 'tf1_000099.jpg',\n",
       " 'tf1_000099.txt',\n",
       " 'tf1_000100.jpg',\n",
       " 'tf1_000100.txt',\n",
       " 'tf1_000101.jpg',\n",
       " 'tf1_000101.txt',\n",
       " 'tf1_000102.jpg',\n",
       " 'tf1_000102.txt',\n",
       " 'tf1_000103.jpg',\n",
       " 'tf1_000103.txt',\n",
       " 'tf1_000104.jpg',\n",
       " 'tf1_000104.txt',\n",
       " 'tf1_000106.jpg',\n",
       " 'tf1_000106.txt',\n",
       " 'tf1_000107.jpg',\n",
       " 'tf1_000107.txt',\n",
       " 'tf1_000108.jpg',\n",
       " 'tf1_000108.txt',\n",
       " 'tf1_000109.jpg',\n",
       " 'tf1_000109.txt',\n",
       " 'tf1_000110.jpg',\n",
       " 'tf1_000110.txt',\n",
       " 'tf1_000111.jpg',\n",
       " 'tf1_000111.txt',\n",
       " 'tf1_000112.jpg',\n",
       " 'tf1_000112.txt',\n",
       " 'tf1_000113.jpg',\n",
       " 'tf1_000113.txt',\n",
       " 'tf1_000114.jpg',\n",
       " 'tf1_000114.txt',\n",
       " 'tf1_000118.jpg',\n",
       " 'tf1_000118.txt',\n",
       " 'tf1_000119.jpg',\n",
       " 'tf1_000119.txt',\n",
       " 'tf1_000120.jpg',\n",
       " 'tf1_000120.txt',\n",
       " 'tf1_000121.jpg',\n",
       " 'tf1_000121.txt',\n",
       " 'tf1_000122.jpg',\n",
       " 'tf1_000122.txt',\n",
       " 'tf1_000123.jpg',\n",
       " 'tf1_000123.txt',\n",
       " 'tf1_000124.jpg',\n",
       " 'tf1_000124.txt',\n",
       " 'tf1_000125.jpg',\n",
       " 'tf1_000125.txt',\n",
       " 'tf1_000126.jpg',\n",
       " 'tf1_000126.txt',\n",
       " 'tf1_000129.jpg',\n",
       " 'tf1_000129.txt',\n",
       " 'tf1_000130.jpg',\n",
       " 'tf1_000130.txt',\n",
       " 'tf1_000131.jpg',\n",
       " 'tf1_000131.txt',\n",
       " 'tf1_000133.jpg',\n",
       " 'tf1_000133.txt',\n",
       " 'tf1_000135.jpg',\n",
       " 'tf1_000135.txt',\n",
       " 'tf1_000136.jpg',\n",
       " 'tf1_000136.txt',\n",
       " 'tf1_000137.jpg',\n",
       " 'tf1_000137.txt',\n",
       " 'tf1_000139.jpg',\n",
       " 'tf1_000139.txt',\n",
       " 'tf1_000140.jpg',\n",
       " 'tf1_000140.txt',\n",
       " 'tf1_000141.jpg',\n",
       " 'tf1_000141.txt',\n",
       " 'tf1_000142.jpg',\n",
       " 'tf1_000142.txt',\n",
       " 'tf1_000143.jpg',\n",
       " 'tf1_000143.txt',\n",
       " 'tf1_000144.jpg',\n",
       " 'tf1_000144.txt',\n",
       " 'tf1_000149.jpg',\n",
       " 'tf1_000149.txt',\n",
       " 'tf1_000151.jpg',\n",
       " 'tf1_000151.txt',\n",
       " 'tf1_000153.jpg',\n",
       " 'tf1_000153.txt',\n",
       " 'tf1_000154.jpg',\n",
       " 'tf1_000154.txt',\n",
       " 'tf1_000155.jpg',\n",
       " 'tf1_000155.txt',\n",
       " 'tf1_000156.jpg',\n",
       " 'tf1_000156.txt',\n",
       " 'tf1_000158.jpg',\n",
       " 'tf1_000158.txt',\n",
       " 'tf1_000160.jpg',\n",
       " 'tf1_000160.txt',\n",
       " 'tf1_000161.jpg',\n",
       " 'tf1_000161.txt',\n",
       " 'tf1_000162.jpg',\n",
       " 'tf1_000162.txt',\n",
       " 'tf1_000164.jpg',\n",
       " 'tf1_000164.txt',\n",
       " 'tf1_000166.jpg',\n",
       " 'tf1_000166.txt',\n",
       " 'tf1_000167.jpg',\n",
       " 'tf1_000167.txt',\n",
       " 'tf1_000168.jpg',\n",
       " 'tf1_000168.txt',\n",
       " 'tf1_000169.jpg',\n",
       " 'tf1_000169.txt',\n",
       " 'tf1_000170.jpg',\n",
       " 'tf1_000170.txt',\n",
       " 'tf1_000173.jpg',\n",
       " 'tf1_000173.txt',\n",
       " 'tf1_000174.jpg',\n",
       " 'tf1_000174.txt',\n",
       " 'tf1_000175.jpg',\n",
       " 'tf1_000175.txt',\n",
       " 'tf1_000176.jpg',\n",
       " 'tf1_000176.txt',\n",
       " 'tf1_000177.jpg',\n",
       " 'tf1_000177.txt',\n",
       " 'tf1_000178.jpg',\n",
       " 'tf1_000178.txt',\n",
       " 'tf1_000180.jpg',\n",
       " 'tf1_000180.txt',\n",
       " 'tf1_000181.jpg',\n",
       " 'tf1_000181.txt',\n",
       " 'tf1_000182.jpg',\n",
       " 'tf1_000182.txt',\n",
       " 'tf1_000183.jpg',\n",
       " 'tf1_000183.txt',\n",
       " 'tf1_000184.jpg',\n",
       " 'tf1_000184.txt',\n",
       " 'tf1_000185.jpg',\n",
       " 'tf1_000185.txt',\n",
       " 'tf1_000186.jpg',\n",
       " 'tf1_000186.txt',\n",
       " 'tf1_000187.jpg',\n",
       " 'tf1_000187.txt',\n",
       " 'tf1_000188.jpg',\n",
       " 'tf1_000188.txt',\n",
       " 'tf1_000189.jpg',\n",
       " 'tf1_000189.txt',\n",
       " 'tf1_000191.jpg',\n",
       " 'tf1_000191.txt',\n",
       " 'tf1_000192.jpg',\n",
       " 'tf1_000192.txt',\n",
       " 'tf1_000193.jpg',\n",
       " 'tf1_000193.txt',\n",
       " 'tf1_000194.jpg',\n",
       " 'tf1_000194.txt',\n",
       " 'tf1_000195.jpg',\n",
       " 'tf1_000195.txt',\n",
       " 'tf1_000196.jpg',\n",
       " 'tf1_000196.txt',\n",
       " 'tf1_000197.jpg',\n",
       " 'tf1_000197.txt',\n",
       " 'tf1_000198.jpg',\n",
       " 'tf1_000198.txt',\n",
       " 'tf1_000199.jpg',\n",
       " 'tf1_000199.txt',\n",
       " 'tf1_000200.jpg',\n",
       " 'tf1_000200.txt',\n",
       " 'tf1_000201.jpg',\n",
       " 'tf1_000201.txt',\n",
       " 'tf1_000202.jpg',\n",
       " 'tf1_000202.txt',\n",
       " 'tf1_000204.jpg',\n",
       " 'tf1_000204.txt',\n",
       " 'tf1_000205.jpg',\n",
       " 'tf1_000205.txt',\n",
       " 'tf1_000206.jpg',\n",
       " 'tf1_000206.txt',\n",
       " 'tf1_000208.jpg',\n",
       " 'tf1_000208.txt',\n",
       " 'tf1_000209.jpg',\n",
       " 'tf1_000209.txt',\n",
       " 'tf1_000210.jpg',\n",
       " 'tf1_000210.txt',\n",
       " 'tf1_000211.jpg',\n",
       " 'tf1_000211.txt',\n",
       " 'tf1_000212.jpg',\n",
       " 'tf1_000212.txt',\n",
       " 'tf1_000213.jpg',\n",
       " 'tf1_000213.txt',\n",
       " 'tf1_000214.jpg',\n",
       " 'tf1_000214.txt',\n",
       " 'tf1_000215.jpg',\n",
       " 'tf1_000215.txt',\n",
       " 'tf1_000217.jpg',\n",
       " 'tf1_000217.txt',\n",
       " 'tf1_000218.jpg',\n",
       " 'tf1_000218.txt',\n",
       " 'tf1_000219.jpg',\n",
       " 'tf1_000219.txt',\n",
       " 'tf1_000222.jpg',\n",
       " 'tf1_000222.txt',\n",
       " 'tf1_000224.jpg',\n",
       " 'tf1_000224.txt',\n",
       " 'tf1_000225.jpg',\n",
       " 'tf1_000225.txt',\n",
       " 'tf1_000226.jpg',\n",
       " 'tf1_000226.txt',\n",
       " 'tf1_000227.jpg',\n",
       " 'tf1_000227.txt',\n",
       " 'tf1_000229.jpg',\n",
       " 'tf1_000229.txt',\n",
       " 'tf1_000232.jpg',\n",
       " 'tf1_000232.txt',\n",
       " 'tf1_000235.jpg',\n",
       " 'tf1_000235.txt',\n",
       " 'tf1_000236.jpg',\n",
       " 'tf1_000236.txt',\n",
       " 'tf1_000237.jpg',\n",
       " 'tf1_000237.txt',\n",
       " 'tf1_000238.jpg',\n",
       " 'tf1_000238.txt',\n",
       " 'tf1_000239.jpg',\n",
       " 'tf1_000239.txt',\n",
       " 'tf1_000240.jpg',\n",
       " 'tf1_000240.txt',\n",
       " 'tf1_000243.jpg',\n",
       " 'tf1_000243.txt',\n",
       " 'tf1_000244.jpg',\n",
       " 'tf1_000244.txt',\n",
       " 'tf1_000245.jpg',\n",
       " 'tf1_000245.txt',\n",
       " 'tf1_000246.jpg',\n",
       " 'tf1_000246.txt',\n",
       " 'tf1_000247.jpg',\n",
       " 'tf1_000247.txt',\n",
       " 'tf1_000249.jpg',\n",
       " 'tf1_000249.txt',\n",
       " 'tf1_000251.jpg',\n",
       " 'tf1_000251.txt',\n",
       " 'tf1_000252.jpg',\n",
       " 'tf1_000252.txt',\n",
       " 'tf1_000254.jpg',\n",
       " 'tf1_000254.txt',\n",
       " 'tf1_000255.jpg',\n",
       " 'tf1_000255.txt',\n",
       " 'tf1_000256.jpg',\n",
       " 'tf1_000256.txt',\n",
       " 'tf1_000258.jpg',\n",
       " 'tf1_000258.txt',\n",
       " 'tf1_000259.jpg',\n",
       " 'tf1_000259.txt',\n",
       " 'tf1_000260.jpg',\n",
       " 'tf1_000260.txt',\n",
       " 'tf1_000261.jpg',\n",
       " 'tf1_000261.txt',\n",
       " 'tf1_000262.jpg',\n",
       " 'tf1_000262.txt',\n",
       " 'tf1_000263.jpg',\n",
       " 'tf1_000263.txt',\n",
       " 'tf1_000264.jpg',\n",
       " 'tf1_000264.txt',\n",
       " 'tf1_000266.jpg',\n",
       " 'tf1_000266.txt',\n",
       " 'tf1_000267.jpg',\n",
       " 'tf1_000267.txt',\n",
       " 'tf1_000268.jpg',\n",
       " 'tf1_000268.txt',\n",
       " 'tf1_000269.jpg',\n",
       " 'tf1_000269.txt',\n",
       " 'tf1_000272.jpg',\n",
       " 'tf1_000272.txt',\n",
       " 'tf1_000273.jpg',\n",
       " 'tf1_000273.txt',\n",
       " 'tf1_000274.jpg',\n",
       " 'tf1_000274.txt',\n",
       " 'tf1_000275.jpg',\n",
       " 'tf1_000275.txt',\n",
       " 'tf1_000276.jpg',\n",
       " 'tf1_000276.txt',\n",
       " 'tf1_000277.jpg',\n",
       " 'tf1_000277.txt',\n",
       " 'tf1_000279.jpg',\n",
       " 'tf1_000279.txt',\n",
       " 'tf1_000280.jpg',\n",
       " 'tf1_000280.txt',\n",
       " 'tf1_000281.jpg',\n",
       " 'tf1_000281.txt',\n",
       " 'tf1_000282.jpg',\n",
       " 'tf1_000282.txt',\n",
       " 'tf1_000283.jpg',\n",
       " 'tf1_000283.txt',\n",
       " 'tf1_000284.jpg',\n",
       " 'tf1_000284.txt',\n",
       " 'tf1_000285.jpg',\n",
       " 'tf1_000285.txt',\n",
       " 'tf1_000286.jpg',\n",
       " 'tf1_000286.txt',\n",
       " 'tf1_000287.jpg',\n",
       " 'tf1_000287.txt',\n",
       " 'tf1_000288.jpg',\n",
       " 'tf1_000288.txt',\n",
       " 'tf1_000289.jpg',\n",
       " 'tf1_000289.txt',\n",
       " 'tf1_000290.jpg',\n",
       " 'tf1_000290.txt',\n",
       " 'tf1_000291.jpg',\n",
       " 'tf1_000291.txt',\n",
       " 'tf1_000292.jpg',\n",
       " 'tf1_000292.txt',\n",
       " 'tf1_000293.jpg',\n",
       " 'tf1_000293.txt',\n",
       " 'tf1_000294.jpg',\n",
       " 'tf1_000294.txt',\n",
       " 'tf1_000295.jpg',\n",
       " 'tf1_000295.txt',\n",
       " 'tf1_000296.jpg',\n",
       " 'tf1_000296.txt',\n",
       " 'tf1_000297.jpg',\n",
       " 'tf1_000297.txt',\n",
       " 'tf1_000298.jpg',\n",
       " 'tf1_000298.txt',\n",
       " 'tf1_000300.jpg',\n",
       " 'tf1_000300.txt',\n",
       " 'tf1_000301.jpg',\n",
       " 'tf1_000301.txt',\n",
       " 'tf1_000302.jpg',\n",
       " 'tf1_000302.txt',\n",
       " 'tf1_000303.jpg',\n",
       " 'tf1_000303.txt',\n",
       " 'tf1_000305.jpg',\n",
       " 'tf1_000305.txt',\n",
       " 'tf1_000306.jpg',\n",
       " 'tf1_000306.txt',\n",
       " 'tf1_000307.jpg',\n",
       " 'tf1_000307.txt',\n",
       " 'tf1_000308.jpg',\n",
       " 'tf1_000308.txt',\n",
       " 'tf1_000309.jpg',\n",
       " 'tf1_000309.txt',\n",
       " 'tf1_000310.jpg',\n",
       " 'tf1_000310.txt',\n",
       " 'tf1_000311.jpg',\n",
       " 'tf1_000311.txt',\n",
       " 'tf1_000312.jpg',\n",
       " 'tf1_000312.txt',\n",
       " 'tf1_000315.jpg',\n",
       " 'tf1_000315.txt',\n",
       " 'tf1_000316.jpg',\n",
       " 'tf1_000316.txt',\n",
       " 'tf1_000317.jpg',\n",
       " 'tf1_000317.txt',\n",
       " 'tf1_000318.jpg',\n",
       " 'tf1_000318.txt',\n",
       " 'tf1_000320.jpg',\n",
       " 'tf1_000320.txt',\n",
       " 'tf1_000321.jpg',\n",
       " 'tf1_000321.txt',\n",
       " 'tf1_000322.jpg',\n",
       " 'tf1_000322.txt',\n",
       " 'tf1_000323.jpg',\n",
       " 'tf1_000323.txt',\n",
       " 'tf1_000324.jpg',\n",
       " 'tf1_000324.txt',\n",
       " 'tf1_000325.jpg',\n",
       " 'tf1_000325.txt',\n",
       " 'tf1_000326.jpg',\n",
       " 'tf1_000326.txt',\n",
       " 'tf1_000327.jpg',\n",
       " 'tf1_000327.txt',\n",
       " 'tf1_000328.jpg',\n",
       " 'tf1_000328.txt',\n",
       " 'tf1_000329.jpg',\n",
       " 'tf1_000329.txt',\n",
       " 'tf1_000330.jpg',\n",
       " 'tf1_000330.txt',\n",
       " 'tf1_000332.jpg',\n",
       " 'tf1_000332.txt',\n",
       " 'tf1_000333.jpg',\n",
       " 'tf1_000333.txt',\n",
       " 'tf1_000334.jpg',\n",
       " 'tf1_000334.txt',\n",
       " 'tf1_000337.jpg',\n",
       " 'tf1_000337.txt',\n",
       " 'tf1_000339.jpg',\n",
       " 'tf1_000339.txt',\n",
       " 'tf1_000340.jpg',\n",
       " 'tf1_000340.txt',\n",
       " 'tf1_000341.jpg',\n",
       " 'tf1_000341.txt',\n",
       " 'tf1_000342.jpg',\n",
       " 'tf1_000342.txt',\n",
       " 'tf1_000343.jpg',\n",
       " 'tf1_000343.txt',\n",
       " 'tf1_000345.jpg',\n",
       " 'tf1_000345.txt',\n",
       " 'tf1_000347.jpg',\n",
       " 'tf1_000347.txt',\n",
       " 'tf1_000350.jpg',\n",
       " 'tf1_000350.txt',\n",
       " 'tf1_000351.jpg',\n",
       " 'tf1_000351.txt',\n",
       " 'tf1_000352.jpg',\n",
       " 'tf1_000352.txt',\n",
       " 'tf1_000353.jpg',\n",
       " 'tf1_000353.txt',\n",
       " 'tf1_000356.jpg',\n",
       " 'tf1_000356.txt',\n",
       " 'tf1_000358.jpg',\n",
       " 'tf1_000358.txt',\n",
       " 'tf1_000361.jpg',\n",
       " 'tf1_000361.txt',\n",
       " 'tf1_000362.jpg',\n",
       " 'tf1_000362.txt',\n",
       " 'tf1_000363.jpg',\n",
       " 'tf1_000363.txt',\n",
       " 'tf1_000364.jpg',\n",
       " 'tf1_000364.txt',\n",
       " 'tf1_000365.jpg',\n",
       " 'tf1_000365.txt',\n",
       " 'tf1_000366.jpg',\n",
       " 'tf1_000366.txt',\n",
       " 'tf1_000367.jpg',\n",
       " 'tf1_000367.txt',\n",
       " 'tf1_000369.jpg',\n",
       " 'tf1_000369.txt',\n",
       " 'tf1_000370.jpg',\n",
       " 'tf1_000370.txt',\n",
       " 'tf1_000371.jpg',\n",
       " 'tf1_000371.txt',\n",
       " 'tf1_000374.jpg',\n",
       " 'tf1_000374.txt',\n",
       " 'tf1_000376.jpg',\n",
       " 'tf1_000376.txt',\n",
       " 'tf1_000377.jpg',\n",
       " 'tf1_000377.txt',\n",
       " 'tf1_000378.jpg',\n",
       " 'tf1_000378.txt',\n",
       " 'tf1_000379.jpg',\n",
       " 'tf1_000379.txt',\n",
       " 'tf1_000381.jpg',\n",
       " 'tf1_000381.txt',\n",
       " 'tf1_000382.jpg',\n",
       " 'tf1_000382.txt',\n",
       " 'tf1_000383.jpg',\n",
       " 'tf1_000383.txt',\n",
       " 'tf1_000384.jpg',\n",
       " 'tf1_000384.txt',\n",
       " 'tf1_000385.jpg',\n",
       " 'tf1_000385.txt',\n",
       " 'tf1_000386.jpg',\n",
       " 'tf1_000386.txt',\n",
       " 'tf1_000387.jpg',\n",
       " 'tf1_000387.txt',\n",
       " 'tf1_000388.jpg',\n",
       " 'tf1_000388.txt',\n",
       " 'tf1_000389.jpg',\n",
       " 'tf1_000389.txt',\n",
       " 'tf1_000392.jpg',\n",
       " 'tf1_000392.txt',\n",
       " 'tf1_000393.jpg',\n",
       " 'tf1_000393.txt',\n",
       " 'tf1_000394.jpg',\n",
       " 'tf1_000394.txt',\n",
       " 'tf1_000396.jpg',\n",
       " 'tf1_000396.txt',\n",
       " 'tf1_000399.jpg',\n",
       " 'tf1_000399.txt',\n",
       " 'tf1_000400.jpg',\n",
       " 'tf1_000400.txt',\n",
       " 'tf1_000401.jpg',\n",
       " 'tf1_000401.txt',\n",
       " 'tf1_000404.jpg',\n",
       " 'tf1_000404.txt',\n",
       " 'tf1_000406.jpg',\n",
       " 'tf1_000406.txt',\n",
       " 'tf1_000407.jpg',\n",
       " 'tf1_000407.txt',\n",
       " 'tf1_000408.jpg',\n",
       " 'tf1_000408.txt',\n",
       " 'tf1_000409.jpg',\n",
       " 'tf1_000409.txt',\n",
       " 'tf1_000410.jpg',\n",
       " 'tf1_000410.txt',\n",
       " 'tf1_000411.jpg',\n",
       " 'tf1_000411.txt',\n",
       " 'tf1_000413.jpg',\n",
       " 'tf1_000413.txt',\n",
       " 'tf1_000416.jpg',\n",
       " 'tf1_000416.txt',\n",
       " 'tf1_000417.jpg',\n",
       " 'tf1_000417.txt',\n",
       " 'tf1_000419.jpg',\n",
       " 'tf1_000419.txt',\n",
       " 'tf1_000420.jpg',\n",
       " 'tf1_000420.txt',\n",
       " 'tf1_000421.jpg',\n",
       " 'tf1_000421.txt',\n",
       " 'tf1_000423.jpg',\n",
       " 'tf1_000423.txt',\n",
       " 'tf1_000424.jpg',\n",
       " 'tf1_000424.txt',\n",
       " 'tf1_000425.jpg',\n",
       " 'tf1_000425.txt',\n",
       " 'tf1_000427.jpg',\n",
       " 'tf1_000427.txt',\n",
       " 'tf1_000428.jpg',\n",
       " 'tf1_000428.txt',\n",
       " 'tf1_000430.jpg',\n",
       " 'tf1_000430.txt',\n",
       " 'tf1_000431.jpg',\n",
       " 'tf1_000431.txt',\n",
       " 'tf1_000432.jpg',\n",
       " 'tf1_000432.txt',\n",
       " 'tf1_000434.jpg',\n",
       " 'tf1_000434.txt',\n",
       " 'tf1_000435.jpg',\n",
       " 'tf1_000435.txt',\n",
       " 'tf1_000438.jpg',\n",
       " 'tf1_000438.txt',\n",
       " 'tf1_000440.jpg',\n",
       " 'tf1_000440.txt',\n",
       " 'tf1_000441.jpg',\n",
       " 'tf1_000441.txt',\n",
       " 'tf1_000442.jpg',\n",
       " 'tf1_000442.txt',\n",
       " 'tf1_000443.jpg',\n",
       " 'tf1_000443.txt',\n",
       " 'tf1_000444.jpg',\n",
       " 'tf1_000444.txt',\n",
       " 'tf1_000445.jpg',\n",
       " 'tf1_000445.txt',\n",
       " 'tf1_000447.jpg',\n",
       " 'tf1_000447.txt',\n",
       " 'tf1_000448.jpg',\n",
       " 'tf1_000448.txt',\n",
       " 'tf1_000449.jpg',\n",
       " 'tf1_000449.txt',\n",
       " 'tf1_000450.jpg',\n",
       " 'tf1_000450.txt',\n",
       " 'tf1_000451.jpg',\n",
       " 'tf1_000451.txt',\n",
       " 'tf1_000453.jpg',\n",
       " 'tf1_000453.txt',\n",
       " 'tf1_000454.jpg',\n",
       " 'tf1_000454.txt',\n",
       " 'tf1_000458.jpg',\n",
       " 'tf1_000458.txt',\n",
       " 'tf1_000459.jpg',\n",
       " 'tf1_000459.txt',\n",
       " 'tf1_000460.jpg',\n",
       " 'tf1_000460.txt',\n",
       " 'tf1_000461.jpg',\n",
       " 'tf1_000461.txt',\n",
       " 'tf1_000462.jpg',\n",
       " 'tf1_000462.txt',\n",
       " 'tf1_000464.jpg',\n",
       " 'tf1_000464.txt',\n",
       " 'tf1_000465.jpg',\n",
       " 'tf1_000465.txt',\n",
       " 'tf1_000466.jpg',\n",
       " 'tf1_000466.txt',\n",
       " 'tf1_000468.jpg',\n",
       " 'tf1_000468.txt',\n",
       " 'tf1_000469.jpg',\n",
       " 'tf1_000469.txt',\n",
       " 'tf1_000470.jpg',\n",
       " 'tf1_000470.txt',\n",
       " 'tf1_000471.jpg',\n",
       " 'tf1_000471.txt',\n",
       " 'tf1_000473.jpg',\n",
       " 'tf1_000473.txt',\n",
       " 'tf1_000474.jpg',\n",
       " 'tf1_000474.txt',\n",
       " 'tf1_000475.jpg',\n",
       " 'tf1_000475.txt',\n",
       " 'tf1_000476.jpg',\n",
       " 'tf1_000476.txt',\n",
       " 'tf1_000477.jpg',\n",
       " 'tf1_000477.txt',\n",
       " 'tf1_000478.jpg',\n",
       " 'tf1_000478.txt',\n",
       " 'tf1_000479.jpg',\n",
       " 'tf1_000479.txt',\n",
       " 'tf1_000480.jpg',\n",
       " 'tf1_000480.txt',\n",
       " 'tf1_000482.jpg',\n",
       " 'tf1_000482.txt',\n",
       " 'tf1_000483.jpg',\n",
       " 'tf1_000483.txt',\n",
       " 'tf1_000484.jpg',\n",
       " 'tf1_000484.txt',\n",
       " 'tf1_000485.jpg',\n",
       " 'tf1_000485.txt',\n",
       " 'tf1_000487.jpg',\n",
       " 'tf1_000487.txt',\n",
       " 'tf1_000488.jpg',\n",
       " 'tf1_000488.txt',\n",
       " 'tf1_000489.jpg',\n",
       " 'tf1_000489.txt',\n",
       " 'tf1_000490.jpg',\n",
       " 'tf1_000490.txt',\n",
       " 'tf1_000491.jpg',\n",
       " 'tf1_000491.txt',\n",
       " 'tf1_000492.jpg',\n",
       " 'tf1_000492.txt',\n",
       " 'tf1_000494.jpg',\n",
       " 'tf1_000494.txt',\n",
       " 'tf1_000495.jpg',\n",
       " 'tf1_000495.txt',\n",
       " 'tf1_000496.jpg',\n",
       " 'tf1_000496.txt',\n",
       " 'tf1_000497.jpg',\n",
       " 'tf1_000497.txt',\n",
       " 'tf1_000498.jpg',\n",
       " 'tf1_000498.txt',\n",
       " 'tf1_000499.jpg',\n",
       " 'tf1_000499.txt',\n",
       " 'tf1_000500.jpg',\n",
       " 'tf1_000500.txt',\n",
       " 'tf1_000504.jpg',\n",
       " 'tf1_000504.txt',\n",
       " 'tf1_000505.jpg',\n",
       " 'tf1_000505.txt',\n",
       " 'tf1_000506.jpg',\n",
       " 'tf1_000506.txt',\n",
       " 'tf1_000507.jpg',\n",
       " 'tf1_000507.txt',\n",
       " 'tf1_000508.jpg',\n",
       " 'tf1_000508.txt',\n",
       " 'tf1_000510.jpg',\n",
       " 'tf1_000510.txt',\n",
       " 'tf1_000512.jpg',\n",
       " 'tf1_000512.txt',\n",
       " 'tf1_000514.jpg',\n",
       " 'tf1_000514.txt',\n",
       " 'tf1_000515.jpg',\n",
       " 'tf1_000515.txt',\n",
       " 'tf1_000517.jpg',\n",
       " 'tf1_000517.txt',\n",
       " 'tf1_000518.jpg',\n",
       " 'tf1_000518.txt',\n",
       " 'tf1_000519.jpg',\n",
       " 'tf1_000519.txt',\n",
       " 'tf1_000521.jpg',\n",
       " 'tf1_000521.txt',\n",
       " 'tf1_000522.jpg',\n",
       " 'tf1_000522.txt',\n",
       " 'tf1_000523.jpg',\n",
       " 'tf1_000523.txt',\n",
       " 'tf1_000524.jpg',\n",
       " 'tf1_000524.txt',\n",
       " 'tf1_000525.jpg',\n",
       " 'tf1_000525.txt',\n",
       " 'tf1_000526.jpg',\n",
       " 'tf1_000526.txt',\n",
       " 'tf1_000527.jpg',\n",
       " 'tf1_000527.txt',\n",
       " 'tf1_000528.jpg',\n",
       " 'tf1_000528.txt',\n",
       " 'tf1_000529.jpg',\n",
       " 'tf1_000529.txt',\n",
       " 'tf1_000530.jpg',\n",
       " 'tf1_000530.txt',\n",
       " 'tf1_000532.jpg',\n",
       " 'tf1_000532.txt',\n",
       " 'tf1_000533.jpg',\n",
       " 'tf1_000533.txt',\n",
       " 'tf1_000534.jpg',\n",
       " 'tf1_000534.txt',\n",
       " 'tf1_000535.jpg',\n",
       " 'tf1_000535.txt',\n",
       " 'tf1_000536.jpg',\n",
       " 'tf1_000536.txt',\n",
       " 'tf1_000537.jpg',\n",
       " 'tf1_000537.txt',\n",
       " 'tf1_000538.jpg',\n",
       " 'tf1_000538.txt',\n",
       " 'tf1_000542.jpg',\n",
       " 'tf1_000542.txt',\n",
       " 'tf1_000543.jpg',\n",
       " 'tf1_000543.txt',\n",
       " 'tf1_000544.jpg',\n",
       " 'tf1_000544.txt',\n",
       " 'tf1_000546.jpg',\n",
       " 'tf1_000546.txt',\n",
       " 'tf1_000547.jpg',\n",
       " 'tf1_000547.txt',\n",
       " 'tf1_000548.jpg',\n",
       " 'tf1_000548.txt',\n",
       " 'tf1_000549.jpg',\n",
       " 'tf1_000549.txt',\n",
       " 'tf1_000551.jpg',\n",
       " 'tf1_000551.txt',\n",
       " 'tf1_000552.jpg',\n",
       " 'tf1_000552.txt',\n",
       " 'tf1_000554.jpg',\n",
       " 'tf1_000554.txt',\n",
       " 'tf1_000555.jpg',\n",
       " 'tf1_000555.txt',\n",
       " 'tf1_000556.jpg',\n",
       " 'tf1_000556.txt',\n",
       " 'tf1_000557.jpg',\n",
       " 'tf1_000557.txt',\n",
       " 'tf1_000558.jpg',\n",
       " 'tf1_000558.txt',\n",
       " 'tf1_000559.jpg',\n",
       " 'tf1_000559.txt',\n",
       " 'tf1_000560.jpg',\n",
       " 'tf1_000560.txt',\n",
       " 'tf1_000562.jpg',\n",
       " 'tf1_000562.txt',\n",
       " 'tf1_000563.jpg',\n",
       " 'tf1_000563.txt',\n",
       " 'tf1_000564.jpg',\n",
       " 'tf1_000564.txt',\n",
       " 'tf1_000565.jpg',\n",
       " 'tf1_000565.txt',\n",
       " 'tf1_000566.jpg',\n",
       " 'tf1_000566.txt',\n",
       " 'tf1_000568.jpg',\n",
       " 'tf1_000568.txt',\n",
       " 'tf1_000569.jpg',\n",
       " 'tf1_000569.txt',\n",
       " 'tf1_000570.jpg',\n",
       " 'tf1_000570.txt',\n",
       " 'tf1_000573.jpg',\n",
       " 'tf1_000573.txt',\n",
       " 'tf1_000574.jpg',\n",
       " 'tf1_000574.txt',\n",
       " 'tf1_000577.jpg',\n",
       " 'tf1_000577.txt',\n",
       " 'tf1_000578.jpg',\n",
       " 'tf1_000578.txt',\n",
       " 'tf1_000579.jpg',\n",
       " 'tf1_000579.txt',\n",
       " 'tf1_000582.jpg',\n",
       " 'tf1_000582.txt',\n",
       " 'tf1_000583.jpg',\n",
       " 'tf1_000583.txt',\n",
       " 'tf1_000585.jpg',\n",
       " 'tf1_000585.txt',\n",
       " 'tf1_000586.jpg',\n",
       " 'tf1_000586.txt',\n",
       " 'tf1_000587.jpg',\n",
       " 'tf1_000587.txt',\n",
       " 'tf1_000589.jpg',\n",
       " 'tf1_000589.txt',\n",
       " 'tf1_000591.jpg',\n",
       " 'tf1_000591.txt',\n",
       " 'tf1_000592.jpg',\n",
       " 'tf1_000592.txt',\n",
       " 'tf1_000593.jpg',\n",
       " 'tf1_000593.txt',\n",
       " 'tf1_000594.jpg',\n",
       " 'tf1_000594.txt',\n",
       " 'tf1_000597.jpg',\n",
       " 'tf1_000597.txt',\n",
       " 'tf1_000598.jpg',\n",
       " 'tf1_000598.txt',\n",
       " 'tf1_000599.jpg',\n",
       " 'tf1_000599.txt',\n",
       " 'tf1_000600.jpg',\n",
       " 'tf1_000600.txt',\n",
       " 'tf1_000603.jpg',\n",
       " 'tf1_000603.txt',\n",
       " 'tf1_000604.jpg',\n",
       " 'tf1_000604.txt',\n",
       " 'tf1_000605.jpg',\n",
       " 'tf1_000605.txt',\n",
       " 'tf1_000606.jpg',\n",
       " 'tf1_000606.txt',\n",
       " 'tf1_000607.jpg',\n",
       " 'tf1_000607.txt',\n",
       " 'tf1_000608.jpg',\n",
       " 'tf1_000608.txt',\n",
       " 'tf1_000609.jpg',\n",
       " 'tf1_000609.txt',\n",
       " 'tf1_000610.jpg',\n",
       " 'tf1_000610.txt',\n",
       " 'tf1_000611.jpg',\n",
       " 'tf1_000611.txt',\n",
       " 'tf1_000612.jpg',\n",
       " 'tf1_000612.txt',\n",
       " 'tf1_000613.jpg',\n",
       " 'tf1_000613.txt',\n",
       " 'tf1_000614.jpg',\n",
       " 'tf1_000614.txt',\n",
       " 'tf1_000615.jpg',\n",
       " 'tf1_000615.txt',\n",
       " 'tf1_000616.jpg',\n",
       " 'tf1_000616.txt',\n",
       " 'tf1_000617.jpg',\n",
       " 'tf1_000617.txt',\n",
       " 'tf1_000618.jpg',\n",
       " 'tf1_000618.txt',\n",
       " 'tf1_000620.jpg',\n",
       " 'tf1_000620.txt',\n",
       " 'tf1_000621.jpg',\n",
       " 'tf1_000621.txt',\n",
       " 'tf1_000622.jpg',\n",
       " 'tf1_000622.txt',\n",
       " 'tf1_000623.jpg',\n",
       " 'tf1_000623.txt',\n",
       " 'tf1_000624.jpg',\n",
       " 'tf1_000624.txt',\n",
       " 'tf1_000626.jpg',\n",
       " 'tf1_000626.txt',\n",
       " 'tf1_000628.jpg',\n",
       " 'tf1_000628.txt',\n",
       " 'tf1_000630.jpg',\n",
       " 'tf1_000630.txt',\n",
       " 'tf1_000631.jpg',\n",
       " 'tf1_000631.txt',\n",
       " 'tf1_000634.jpg',\n",
       " 'tf1_000634.txt',\n",
       " 'tf1_000635.jpg',\n",
       " 'tf1_000635.txt',\n",
       " 'tf1_000636.jpg',\n",
       " 'tf1_000636.txt',\n",
       " 'tf1_000638.jpg',\n",
       " 'tf1_000638.txt',\n",
       " 'tf1_000639.jpg',\n",
       " 'tf1_000639.txt',\n",
       " 'tf1_000641.jpg',\n",
       " 'tf1_000641.txt',\n",
       " 'tf1_000642.jpg',\n",
       " 'tf1_000642.txt',\n",
       " 'tf1_000643.jpg',\n",
       " 'tf1_000643.txt',\n",
       " 'tf1_000646.jpg',\n",
       " 'tf1_000646.txt',\n",
       " 'tf1_000647.jpg',\n",
       " 'tf1_000647.txt',\n",
       " 'tf1_000648.jpg',\n",
       " 'tf1_000648.txt',\n",
       " 'tf1_000649.jpg',\n",
       " 'tf1_000649.txt',\n",
       " 'tf1_000650.jpg',\n",
       " 'tf1_000650.txt',\n",
       " 'tf1_000651.jpg',\n",
       " 'tf1_000651.txt',\n",
       " 'tf1_000652.jpg',\n",
       " 'tf1_000652.txt',\n",
       " 'tf1_000653.jpg',\n",
       " 'tf1_000653.txt',\n",
       " 'tf1_000654.jpg',\n",
       " 'tf1_000654.txt',\n",
       " 'tf1_000657.jpg',\n",
       " 'tf1_000657.txt',\n",
       " 'tf1_000658.jpg',\n",
       " 'tf1_000658.txt',\n",
       " 'tf1_000659.jpg',\n",
       " 'tf1_000659.txt',\n",
       " 'tf1_000661.jpg',\n",
       " 'tf1_000661.txt',\n",
       " 'tf1_000667.jpg',\n",
       " 'tf1_000667.txt',\n",
       " 'tf1_000668.jpg',\n",
       " 'tf1_000668.txt',\n",
       " 'tf1_000669.jpg',\n",
       " 'tf1_000669.txt',\n",
       " 'tf1_000670.jpg',\n",
       " 'tf1_000670.txt',\n",
       " 'tf1_000671.jpg',\n",
       " 'tf1_000671.txt',\n",
       " 'tf1_000672.jpg',\n",
       " 'tf1_000672.txt',\n",
       " 'tf1_000673.jpg',\n",
       " 'tf1_000673.txt',\n",
       " ...]"
      ]
     },
     "execution_count": 3,
     "metadata": {},
     "output_type": "execute_result"
    }
   ],
   "source": [
    "original_files"
   ]
  },
  {
   "cell_type": "code",
   "execution_count": null,
   "metadata": {},
   "outputs": [],
   "source": []
  }
 ],
 "metadata": {
  "kernelspec": {
   "display_name": "base",
   "language": "python",
   "name": "python3"
  },
  "language_info": {
   "codemirror_mode": {
    "name": "ipython",
    "version": 3
   },
   "file_extension": ".py",
   "mimetype": "text/x-python",
   "name": "python",
   "nbconvert_exporter": "python",
   "pygments_lexer": "ipython3",
   "version": "3.9.7"
  },
  "orig_nbformat": 4
 },
 "nbformat": 4,
 "nbformat_minor": 2
}
