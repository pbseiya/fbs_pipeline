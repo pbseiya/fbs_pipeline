{
 "cells": [
  {
   "cell_type": "code",
   "execution_count": null,
   "metadata": {},
   "outputs": [],
   "source": [
    "import zipfile\n",
    "with zipfile.ZipFile(\"v:/data_annotation_v1/seaview_chindanai_nutthapol.zip\",\"r\") as zip_ref:\n",
    "    zip_ref.extractall(\"v:/data_annotation_v1\")"
   ]
  },
  {
   "cell_type": "code",
   "execution_count": 2,
   "metadata": {},
   "outputs": [
    {
     "name": "stderr",
     "output_type": "stream",
     "text": [
      "Extracting : 100%|██████████| 182337/182337 [1:05:26<00:00, 46.44it/s] \n"
     ]
    }
   ],
   "source": [
    "from tqdm import tqdm\n",
    "import zipfile\n",
    "src = \"v:/data_annotation_v1/seaview_chindanai_nutthapol.zip\"\n",
    "dst = \"v:/data_annotation_v1\"\n",
    "with zipfile.ZipFile(src,'r') as zf:\n",
    "    for member in tqdm(zf.infolist(), desc='Extracting '):\n",
    "        try:\n",
    "            zf.extract(member, dst)\n",
    "        except zipfile.error as e:\n",
    "            pass"
   ]
  },
  {
   "cell_type": "code",
   "execution_count": 1,
   "metadata": {},
   "outputs": [],
   "source": [
    "import shutil\n",
    "shutil.rmtree('v:/data_annotation')"
   ]
  }
 ],
 "metadata": {
  "kernelspec": {
   "display_name": "base",
   "language": "python",
   "name": "python3"
  },
  "language_info": {
   "codemirror_mode": {
    "name": "ipython",
    "version": 3
   },
   "file_extension": ".py",
   "mimetype": "text/x-python",
   "name": "python",
   "nbconvert_exporter": "python",
   "pygments_lexer": "ipython3",
   "version": "3.9.7"
  },
  "orig_nbformat": 4
 },
 "nbformat": 4,
 "nbformat_minor": 2
}
