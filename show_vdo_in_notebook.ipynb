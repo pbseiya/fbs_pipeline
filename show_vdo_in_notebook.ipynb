{
 "cells": [
  {
   "cell_type": "code",
   "execution_count": 2,
   "metadata": {},
   "outputs": [
    {
     "name": "stdout",
     "output_type": "stream",
     "text": [
      "Released Video Resource\n"
     ]
    }
   ],
   "source": [
    "# https://github.com/bikz05/ipython-notebooks/blob/master/computer-vision/displaying-video-in-ipython-notebook.ipynb\n",
    "# Import the required modules\n",
    "%pylab inline \n",
    "import cv2\n",
    "from IPython.display import clear_output\n",
    "# Grab the input device, in this case the webcam\n",
    "# You can also give path to the video file\n",
    "# clip = 'C:/Users/pongsak_b/Downloads/ss2ep12.ts'\n",
    "# clip_path = 'D:/Projects/Ai/Flare/Codes/fbs_pipeline/testvdo2images/clips/view1.mp4'\n",
    "clip_path = 'rtsp://root:P@ssw0rd@10.29.26.209/axis-media/media.amp'\n",
    "vid = cv2.VideoCapture(clip_path)\n",
    "# vid = cv2.VideoCapture(\"../data/deepdream/deepdream.mp4\")\n",
    "\n",
    "# Put the code in try-except statements\n",
    "# Catch the keyboard exception and \n",
    "# release the camera device and \n",
    "# continue with the rest of code.\n",
    "try:\n",
    "    while(True):\n",
    "        # Capture frame-by-frame\n",
    "        ret, frame = vid.read()\n",
    "        if not ret:\n",
    "            # Release the Video Device if ret is false\n",
    "            vid.release()\n",
    "            # Message to be displayed after releasing the device\n",
    "            print (\"ret is false Released Video Resource\")\n",
    "            break\n",
    "        # Convert the image from OpenCV BGR format to matplotlib RGB format\n",
    "        # to display the image\n",
    "        frame = cv2.cvtColor(frame, cv2.COLOR_BGR2RGB)\n",
    "        # Turn off the axis\n",
    "        axis('off')\n",
    "        # Title of the window\n",
    "        title(\"Input Stream\")\n",
    "        # Display the frame\n",
    "        imshow(frame)\n",
    "        show(figsize(20,10))\n",
    "        # Display the frame until new frame is available\n",
    "        clear_output(wait=True)\n",
    "except KeyboardInterrupt:\n",
    "    # Release the Video Device\n",
    "    vid.release()\n",
    "    # Message to be displayed after releasing the device\n",
    "    print (\"Released Video Resource\")"
   ]
  }
 ],
 "metadata": {
  "kernelspec": {
   "display_name": "base",
   "language": "python",
   "name": "python3"
  },
  "language_info": {
   "codemirror_mode": {
    "name": "ipython",
    "version": 3
   },
   "file_extension": ".py",
   "mimetype": "text/x-python",
   "name": "python",
   "nbconvert_exporter": "python",
   "pygments_lexer": "ipython3",
   "version": "3.9.7"
  },
  "orig_nbformat": 4
 },
 "nbformat": 4,
 "nbformat_minor": 2
}
