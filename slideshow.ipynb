{
 "cells": [
  {
   "cell_type": "code",
   "execution_count": 2,
   "metadata": {},
   "outputs": [],
   "source": [
    "def images2mp4_v2(folder,fps=60):  \n",
    "    import cv2, os\n",
    "    import numpy as np\n",
    "    import glob\n",
    "    from tqdm.notebook import tqdm\n",
    "\n",
    "    dst = 'slideshow'\n",
    "    dst = os.path.join('/'.join(folder.split('/')[:-1]), dst)\n",
    "    if not os.path.exists(dst):\n",
    "        os.makedirs(dst)\n",
    "    img_array = []\n",
    "    for filename in tqdm(glob.glob(f'{folder}/*.jpg')):\n",
    "        img = cv2.imread(filename)\n",
    "        # height, width, layers = img.shape\n",
    "        # size = (width,height)\n",
    "        size = (704, 576) # use this width, height if images shape are not the same\n",
    "        img = cv2.resize(img, size)\n",
    "        img_array.append(img)\n",
    "\n",
    "    # print(len(img_array))\n",
    "    out = cv2.VideoWriter(f'{dst}/{folder.split(\"/\")[-1]}.mp4',cv2.VideoWriter_fourcc(*'MP4V'), fps, size)\n",
    "    \n",
    "    for i in range(len(img_array)):\n",
    "        out.write(img_array[i])\n",
    "    out.release()"
   ]
  },
  {
   "cell_type": "code",
   "execution_count": 4,
   "metadata": {},
   "outputs": [
    {
     "data": {
      "application/vnd.jupyter.widget-view+json": {
       "model_id": "1b389193c8d44390a96930e21fe46319",
       "version_major": 2,
       "version_minor": 0
      },
      "text/plain": [
       "  0%|          | 0/6522 [00:00<?, ?it/s]"
      ]
     },
     "metadata": {},
     "output_type": "display_data"
    }
   ],
   "source": [
    "# img_path = 'V:/pongsak/pico/0_fire/bbox'\n",
    "# img_path = 'V:/TF2_Wasin/bbox'\n",
    "# img_path = 'V:/pongsak/pico/2_fire_smoke/bbox'\n",
    "# img_path = 'V:/pongsak/pico/noclass/bbox'\n",
    "img_path = 'V:/Seaview_Nattapol/bbox'\n",
    "images2mp4_v2(img_path,12)"
   ]
  },
  {
   "cell_type": "code",
   "execution_count": 6,
   "metadata": {},
   "outputs": [
    {
     "data": {
      "text/plain": [
       "'V:/TF2_Wasin'"
      ]
     },
     "execution_count": 6,
     "metadata": {},
     "output_type": "execute_result"
    }
   ],
   "source": [
    "import os\n",
    "'/'.join(img_path.split('/')[:-1])"
   ]
  },
  {
   "cell_type": "code",
   "execution_count": null,
   "metadata": {},
   "outputs": [],
   "source": []
  }
 ],
 "metadata": {
  "kernelspec": {
   "display_name": "base",
   "language": "python",
   "name": "python3"
  },
  "language_info": {
   "codemirror_mode": {
    "name": "ipython",
    "version": 3
   },
   "file_extension": ".py",
   "mimetype": "text/x-python",
   "name": "python",
   "nbconvert_exporter": "python",
   "pygments_lexer": "ipython3",
   "version": "3.9.7"
  },
  "orig_nbformat": 4
 },
 "nbformat": 4,
 "nbformat_minor": 2
}
