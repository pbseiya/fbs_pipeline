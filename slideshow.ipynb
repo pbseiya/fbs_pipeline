{
 "cells": [
  {
   "cell_type": "code",
   "execution_count": 31,
   "metadata": {},
   "outputs": [],
   "source": [
    "def images2mp4_v2(folder,fps=60):  \n",
    "    import cv2, os\n",
    "    import numpy as np\n",
    "    import glob\n",
    "    from tqdm.notebook import tqdm\n",
    "\n",
    "    dst = 'slideshow'\n",
    "    dst = os.path.join('/'.join(folder.split('/')[:-1]), dst)\n",
    "    if not os.path.exists(dst):\n",
    "        os.makedirs(dst)\n",
    "    img_array = []\n",
    "    for filename in tqdm(glob.glob(f'{folder}/*.jpg')):\n",
    "        img = cv2.imread(filename)\n",
    "        # height, width, layers = img.shape\n",
    "        # size = (width,height)\n",
    "        size = (704, 576) # use this width, height if images shape are not the same\n",
    "        img = cv2.resize(img, size)\n",
    "        img_array.append(img)\n",
    "\n",
    "    # print(len(img_array))\n",
    "    out = cv2.VideoWriter(f'{dst}/{folder.split(\"/\")[-1]}.mp4',cv2.VideoWriter_fourcc(*'MP4V'), fps, size)\n",
    "    \n",
    "    for i in range(len(img_array)):\n",
    "        out.write(img_array[i])\n",
    "    out.release()"
   ]
  },
  {
   "cell_type": "code",
   "execution_count": 33,
   "metadata": {},
   "outputs": [
    {
     "data": {
      "application/vnd.jupyter.widget-view+json": {
       "model_id": "1b99e992c8f24113b6a736e6ea2e41ee",
       "version_major": 2,
       "version_minor": 0
      },
      "text/plain": [
       "  0%|          | 0/368 [00:00<?, ?it/s]"
      ]
     },
     "metadata": {},
     "output_type": "display_data"
    },
    {
     "name": "stdout",
     "output_type": "stream",
     "text": [
      "368\n"
     ]
    }
   ],
   "source": [
    "img_path = 'V:/pongsak/pico/0_fire/bbox'\n",
    "images2mp4_v2(img_path,12)"
   ]
  },
  {
   "cell_type": "code",
   "execution_count": 10,
   "metadata": {},
   "outputs": [
    {
     "data": {
      "text/plain": [
       "'V:/pongsak/pico/0_fire'"
      ]
     },
     "execution_count": 10,
     "metadata": {},
     "output_type": "execute_result"
    }
   ],
   "source": [
    "import os\n",
    "'/'.join(img_path.split('/')[:-1])"
   ]
  },
  {
   "cell_type": "code",
   "execution_count": null,
   "metadata": {},
   "outputs": [],
   "source": []
  }
 ],
 "metadata": {
  "kernelspec": {
   "display_name": "base",
   "language": "python",
   "name": "python3"
  },
  "language_info": {
   "codemirror_mode": {
    "name": "ipython",
    "version": 3
   },
   "file_extension": ".py",
   "mimetype": "text/x-python",
   "name": "python",
   "nbconvert_exporter": "python",
   "pygments_lexer": "ipython3",
   "version": "3.9.7"
  },
  "orig_nbformat": 4
 },
 "nbformat": 4,
 "nbformat_minor": 2
}
