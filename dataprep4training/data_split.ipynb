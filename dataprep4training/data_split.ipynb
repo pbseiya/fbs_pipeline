{
 "cells": [
  {
   "cell_type": "code",
   "execution_count": null,
   "metadata": {},
   "outputs": [],
   "source": [
    "src = 'V:/data_annotation/pongsak/seaview2/augmentation/fliplr'\n",
    "dst = '/'.join(src.split('/')[:2])+'/train_valid_test_data/test'\n",
    "\n",
    "import os\n",
    "from tqdm.notebook import tqdm\n",
    "import shutil\n",
    "\n",
    "img_dir = 'images'\n",
    "label_dir = 'labels'\n",
    "img_path = os.path.join(src,img_dir)\n",
    "img_files = os.listdir(img_path)\n",
    "files = []\n",
    "for file in img_files:\n",
    "    if file.lower().endswith(('.png', '.jpg', '.jpeg', '.tiff', '.bmp', '.gif')):\n",
    "        files.append(file)\n",
    "img_files = files\n",
    "label_path = os.path.join(src, label_dir)\n",
    "\n",
    "qty_all_img = len(img_files)\n",
    "qty_test_img = int(.1*qty_all_img)\n",
    "qty_valid_img = int(.2*qty_all_img)\n",
    "qty_train_img = qty_all_img-qty_test_img-qty_valid_img\n",
    "print(src, qty_all_img,qty_test_img,qty_valid_img,qty_train_img)\n",
    "\n",
    "if not os.path.exists(dst):\n",
    "    os.makedirs(dst)\n",
    "if not os.path.exists(os.path.join(dst,img_dir)):\n",
    "    os.makedirs(os.path.join(dst,img_dir))\n",
    "if not os.path.exists(os.path.join(dst,label_dir)):\n",
    "    os.makedirs(os.path.join(dst,label_dir))\n",
    "test_img = img_files[-qty_test_img:]\n",
    "for file in tqdm(test_img):\n",
    "    shutil.copy(os.path.join(img_path,file), os.path.join(dst, img_dir, file))\n",
    "    shutil.copy(os.path.join(label_path,f'{file[:-3]}txt'), os.path.join(dst, label_dir, f'{file[:-3]}txt'))"
   ]
  },
  {
   "cell_type": "code",
   "execution_count": 1,
   "metadata": {},
   "outputs": [],
   "source": [
    "def train_valid_test_split(src, dst):\n",
    "    import os\n",
    "    from tqdm.notebook import tqdm\n",
    "    import shutil\n",
    "    import random\n",
    "\n",
    "    img_dir = 'images'\n",
    "    label_dir = 'labels'\n",
    "    img_path = os.path.join(src,img_dir)\n",
    "    img_files = os.listdir(img_path)        \n",
    "    label_path = os.path.join(src, label_dir)\n",
    "\n",
    "\n",
    "    files = []\n",
    "    for file in img_files:\n",
    "        if file.lower().endswith(('.png', '.jpg', '.jpeg', '.tiff', '.bmp', '.gif')):\n",
    "            files.append(file)\n",
    "    img_files = files\n",
    "    img_files.sort()\n",
    "    \n",
    "    qty_all_img = len(img_files)\n",
    "    qty_test_img = int(.1*qty_all_img)\n",
    "    qty_valid_img = int(.2*qty_all_img)\n",
    "    qty_train_img = qty_all_img-qty_test_img-qty_valid_img\n",
    "    print(src, qty_all_img,qty_test_img,qty_valid_img,qty_train_img)\n",
    "\n",
    "    test_img = img_files[-qty_test_img:]\n",
    "    # print('test_img ',len(img_files[-qty_test_img:]))\n",
    "    train_valid_img = img_files[:-qty_test_img]\n",
    "    # print('train_valid_img',len(img_files[:-172]) )\n",
    "    random.seed(0)\n",
    "    random.shuffle(train_valid_img)\n",
    "    train_img = train_valid_img[:qty_train_img]\n",
    "    valid_img = train_valid_img[qty_train_img:]\n",
    "        \n",
    "\n",
    "\n",
    "    train_valid_test = ['train','valid','test']\n",
    "    train_valid_test_img = [train_img, valid_img, test_img]\n",
    "    if not os.path.exists(dst):\n",
    "        os.makedirs(dst)\n",
    "    \n",
    "    for t, t_img in zip(train_valid_test, train_valid_test_img):\n",
    "        if not os.path.exists(os.path.join(dst, t, img_dir)):\n",
    "            os.makedirs(os.path.join(dst, t, img_dir))\n",
    "        if not os.path.exists(os.path.join(dst, t, label_dir)):\n",
    "            os.makedirs(os.path.join(dst, t,label_dir))\n",
    "        for file in tqdm(t_img):\n",
    "            shutil.copy(os.path.join(img_path,file), os.path.join(dst, t, img_dir, file))\n",
    "            shutil.copy(os.path.join(label_path,f'{file[:-3]}txt'), os.path.join(dst, t, label_dir, f'{file[:-3]}txt'))"
   ]
  },
  {
   "cell_type": "code",
   "execution_count": 2,
   "metadata": {},
   "outputs": [
    {
     "data": {
      "application/vnd.jupyter.widget-view+json": {
       "model_id": "45a644b6a46f4d2faefe521882ab54b3",
       "version_major": 2,
       "version_minor": 0
      },
      "text/plain": [
       "  0%|          | 0/1 [00:00<?, ?it/s]"
      ]
     },
     "metadata": {},
     "output_type": "display_data"
    },
    {
     "name": "stdout",
     "output_type": "stream",
     "text": [
      "V:/data_annotation/tf1_000000-006000 6001 600 1200 4201\n"
     ]
    },
    {
     "data": {
      "application/vnd.jupyter.widget-view+json": {
       "model_id": "d4fe8f59cfc54a3eb22bf66eb1a1370d",
       "version_major": 2,
       "version_minor": 0
      },
      "text/plain": [
       "  0%|          | 0/4201 [00:00<?, ?it/s]"
      ]
     },
     "metadata": {},
     "output_type": "display_data"
    },
    {
     "data": {
      "application/vnd.jupyter.widget-view+json": {
       "model_id": "afc0840aa5a7403584da579206c850c7",
       "version_major": 2,
       "version_minor": 0
      },
      "text/plain": [
       "  0%|          | 0/1200 [00:00<?, ?it/s]"
      ]
     },
     "metadata": {},
     "output_type": "display_data"
    },
    {
     "data": {
      "application/vnd.jupyter.widget-view+json": {
       "model_id": "32287c52912b490a96cffca9308a6b27",
       "version_major": 2,
       "version_minor": 0
      },
      "text/plain": [
       "  0%|          | 0/600 [00:00<?, ?it/s]"
      ]
     },
     "metadata": {},
     "output_type": "display_data"
    }
   ],
   "source": [
    "# src = 'V:/data_annotation/pongsak/seaview2/augmentation/fliplr'\n",
    "# src = 'V:/data_annotation/pongsak/pico/mix'\n",
    "# src = 'V:/data_annotation/pongsak/ps/mix'\n",
    "# src = 'V:/data_annotation/pongsak/seaview2'\n",
    "# src = 'V:/data_annotation/pongsak/uhv/mix'\n",
    "# src = [\n",
    "#         'V:/data_annotation/pongsak/pico/mix',\n",
    "#         'V:/data_annotation/pongsak/ps/mix',\n",
    "#         'V:/data_annotation/pongsak/seaview2',\n",
    "#         'V:/data_annotation/pongsak/uhv/mix',\n",
    "#         'V:/data_annotation/Seaview_Nattapol',\n",
    "#         'V:/data_annotation/TF1_First',\n",
    "#         'V:/data_annotation/TF2_Wasin'\n",
    "#         ]\n",
    "# src = [\n",
    "#         'V:/data_annotation/Seaview_Nattapol',\n",
    "#         'V:/data_annotation/TF1_First',\n",
    "#         'V:/data_annotation/TF2_Wasin'\n",
    "#         ]\n",
    "# src = ['V:/data_annotation/TF2_Wasin']\n",
    "src = ['V:/data_annotation/tf1_000000-006000']\n",
    "from tqdm.notebook import tqdm\n",
    "for s in tqdm(src):\n",
    "        dst = '/'.join(s.split('/')[:2])+'/train_valid_test_data'\n",
    "        train_valid_test_split(src=s, dst=dst)"
   ]
  },
  {
   "cell_type": "code",
   "execution_count": 60,
   "metadata": {},
   "outputs": [
    {
     "data": {
      "text/plain": [
       "2670"
      ]
     },
     "execution_count": 60,
     "metadata": {},
     "output_type": "execute_result"
    }
   ],
   "source": [
    "len(img_files)"
   ]
  },
  {
   "cell_type": "code",
   "execution_count": 63,
   "metadata": {},
   "outputs": [
    {
     "data": {
      "text/plain": [
       "267"
      ]
     },
     "execution_count": 63,
     "metadata": {},
     "output_type": "execute_result"
    }
   ],
   "source": [
    "len(img_files[-267:])"
   ]
  },
  {
   "cell_type": "code",
   "execution_count": 61,
   "metadata": {},
   "outputs": [
    {
     "data": {
      "text/plain": [
       "2403"
      ]
     },
     "execution_count": 61,
     "metadata": {},
     "output_type": "execute_result"
    }
   ],
   "source": [
    "len(img_files[:-267])"
   ]
  },
  {
   "cell_type": "code",
   "execution_count": 62,
   "metadata": {},
   "outputs": [
    {
     "data": {
      "text/plain": [
       "2670"
      ]
     },
     "execution_count": 62,
     "metadata": {},
     "output_type": "execute_result"
    }
   ],
   "source": [
    "2403+267"
   ]
  },
  {
   "cell_type": "code",
   "execution_count": 76,
   "metadata": {},
   "outputs": [],
   "source": [
    "import pandas as pd\n",
    "df = pd.DataFrame(os.listdir('V:/data_annotation/pongsak/uhv/mix/labels'))\n",
    "df.to_excel('V:/data_annotation/1.xlsx')"
   ]
  },
  {
   "cell_type": "code",
   "execution_count": null,
   "metadata": {},
   "outputs": [],
   "source": []
  }
 ],
 "metadata": {
  "kernelspec": {
   "display_name": "base",
   "language": "python",
   "name": "python3"
  },
  "language_info": {
   "codemirror_mode": {
    "name": "ipython",
    "version": 3
   },
   "file_extension": ".py",
   "mimetype": "text/x-python",
   "name": "python",
   "nbconvert_exporter": "python",
   "pygments_lexer": "ipython3",
   "version": "3.9.7"
  },
  "orig_nbformat": 4
 },
 "nbformat": 4,
 "nbformat_minor": 2
}
