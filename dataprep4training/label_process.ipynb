{
 "cells": [
  {
   "cell_type": "markdown",
   "metadata": {},
   "source": [
    "# Make empty txt files"
   ]
  },
  {
   "cell_type": "code",
   "execution_count": 9,
   "metadata": {},
   "outputs": [
    {
     "data": {
      "application/vnd.jupyter.widget-view+json": {
       "model_id": "c4f52bfa547145a9a92895fd15dbddc1",
       "version_major": 2,
       "version_minor": 0
      },
      "text/plain": [
       "  0%|          | 0/3330 [00:00<?, ?it/s]"
      ]
     },
     "metadata": {},
     "output_type": "display_data"
    }
   ],
   "source": [
    "# only make empty text files\n",
    "import os\n",
    "from tqdm.notebook import tqdm\n",
    "from glob import glob\n",
    "\n",
    "src = 'V:/data_annotation_v1/tf2_1'\n",
    "img_folder = os.path.join(src,'images')\n",
    "lab_folder = os.path.join(src,'labels')\n",
    "images = glob(os.path.join(img_folder,'*.jpg'))\n",
    "for im in tqdm(images):\n",
    "    if not os.path.exists(os.path.join(lab_folder,im.split('\\\\')[-1][:-3]+'txt')):\n",
    "        with open(os.path.join(lab_folder,im.split('\\\\')[-1][:-3]+'txt'),'w') as creating_empty_txt_file:\n",
    "            pass"
   ]
  },
  {
   "cell_type": "code",
   "execution_count": 26,
   "metadata": {},
   "outputs": [
    {
     "name": "stdout",
     "output_type": "stream",
     "text": [
      "V:/data_annotation_v1/original/tf2_sathit\\train\\labels\n"
     ]
    },
    {
     "data": {
      "application/vnd.jupyter.widget-view+json": {
       "model_id": "24ace5f528954db7a0f4f88f1940f715",
       "version_major": 2,
       "version_minor": 0
      },
      "text/plain": [
       "  0%|          | 0/1306 [00:00<?, ?it/s]"
      ]
     },
     "metadata": {},
     "output_type": "display_data"
    },
    {
     "name": "stdout",
     "output_type": "stream",
     "text": [
      "V:/data_annotation_v1/original/tf2_sathit\\valid\\labels\n"
     ]
    },
    {
     "data": {
      "application/vnd.jupyter.widget-view+json": {
       "model_id": "9cbf9ec50de248c6af6bc6cd9756db5e",
       "version_major": 2,
       "version_minor": 0
      },
      "text/plain": [
       "  0%|          | 0/372 [00:00<?, ?it/s]"
      ]
     },
     "metadata": {},
     "output_type": "display_data"
    },
    {
     "name": "stdout",
     "output_type": "stream",
     "text": [
      "V:/data_annotation_v1/original/tf2_sathit\\test\\labels\n"
     ]
    },
    {
     "data": {
      "application/vnd.jupyter.widget-view+json": {
       "model_id": "a9c45cd7d0a048c59f71ffa5e8dd15dd",
       "version_major": 2,
       "version_minor": 0
      },
      "text/plain": [
       "  0%|          | 0/186 [00:00<?, ?it/s]"
      ]
     },
     "metadata": {},
     "output_type": "display_data"
    }
   ],
   "source": [
    "# copy normal and rain labels with make noclass label files\n",
    "import os, shutil\n",
    "from tqdm.notebook import tqdm\n",
    "\n",
    "src = 'V:/data_annotation_v1/original/tf2_sathit'\n",
    "# dst = 'V:/data_annotation_v1/tf2'\n",
    "group = ['train','valid','test']\n",
    "for g in group:\n",
    "    img_folder = os.path.join(src,g,'images')\n",
    "    read_folder = os.path.join(src,g,'labels')\n",
    "    # write_folder = os.path.join(dst,g,'labels')\n",
    "    # if not os.path.exists(write_folder): os.makedirs(write_folder)\n",
    "    img_files = os.listdir(img_folder)\n",
    "    img_files = [file for file in img_files if file.lower().endswith(('.png', '.jpg', '.jpeg', '.tiff', '.bmp', '.gif'))]\n",
    "    # label_files = os.listdir(read_folder)\n",
    "    # label_files = [file for file in files if file != 'classes.txt']\n",
    "    print(f'{read_folder}')\n",
    "    for file in tqdm(img_files):\n",
    "        if not os.path.exists(os.path.join(read_folder, file[:-3]+'txt')):\n",
    "            with open(os.path.join(read_folder, file[:-3]+'txt'), 'w') as creating_empty_txt_file: \n",
    "                pass "
   ]
  },
  {
   "cell_type": "markdown",
   "metadata": {},
   "source": [
    "# Copy origianl to data_prep"
   ]
  },
  {
   "cell_type": "code",
   "execution_count": null,
   "metadata": {},
   "outputs": [],
   "source": [
    "# copy normal and rain labels\n",
    "import os, shutil\n",
    "from tqdm.notebook import tqdm\n",
    "\n",
    "src = 'V:/data_annotation_v1/original/tf2_sathit'\n",
    "dst = 'V:/data_annotation_v1/tf2'\n",
    "group = ['train','valid','test']\n",
    "for g in group:\n",
    "    read_folder = os.path.join(src,g,'labels').replace('\\\\','/')\n",
    "    write_folder = os.path.join(dst,g,'labels').replace('\\\\','/')\n",
    "    if not os.path.exists(write_folder): os.makedirs(write_folder) \n",
    "    files = os.listdir(read_folder)\n",
    "    files = [file for file in files if file != 'classes.txt']\n",
    "    print(f'{read_folder}>>>{write_folder}')\n",
    "    for file in tqdm(files):\n",
    "        shutil.copy(os.path.join(read_folder, file), os.path.join(write_folder, file))\n",
    "        shutil.copy(os.path.join(read_folder, file), os.path.join(write_folder, 'rain_'+file))"
   ]
  },
  {
   "cell_type": "code",
   "execution_count": 28,
   "metadata": {},
   "outputs": [
    {
     "name": "stdout",
     "output_type": "stream",
     "text": [
      "V:/data_annotation_v1/original/tf2_sathit\\train\\labels>>>V:/data_annotation_v1/tf2\\train\\labels\n"
     ]
    },
    {
     "data": {
      "application/vnd.jupyter.widget-view+json": {
       "model_id": "6742f0a227a84c1093244a387311a0ef",
       "version_major": 2,
       "version_minor": 0
      },
      "text/plain": [
       "  0%|          | 0/1306 [00:00<?, ?it/s]"
      ]
     },
     "metadata": {},
     "output_type": "display_data"
    },
    {
     "name": "stdout",
     "output_type": "stream",
     "text": [
      "V:/data_annotation_v1/original/tf2_sathit\\valid\\labels>>>V:/data_annotation_v1/tf2\\valid\\labels\n"
     ]
    },
    {
     "data": {
      "application/vnd.jupyter.widget-view+json": {
       "model_id": "46f47cf26fbc419396c01cd066f2da94",
       "version_major": 2,
       "version_minor": 0
      },
      "text/plain": [
       "  0%|          | 0/372 [00:00<?, ?it/s]"
      ]
     },
     "metadata": {},
     "output_type": "display_data"
    },
    {
     "name": "stdout",
     "output_type": "stream",
     "text": [
      "V:/data_annotation_v1/original/tf2_sathit\\test\\labels>>>V:/data_annotation_v1/tf2\\test\\labels\n"
     ]
    },
    {
     "data": {
      "application/vnd.jupyter.widget-view+json": {
       "model_id": "35c4019db7784ab9bd2af60205fef884",
       "version_major": 2,
       "version_minor": 0
      },
      "text/plain": [
       "  0%|          | 0/186 [00:00<?, ?it/s]"
      ]
     },
     "metadata": {},
     "output_type": "display_data"
    }
   ],
   "source": [
    "# copy normal and rain labels with make noclass label files\n",
    "import os, shutil\n",
    "from tqdm.notebook import tqdm\n",
    "\n",
    "src = 'V:/data_annotation_v1/original/tf2_sathit'\n",
    "dst = 'V:/data_annotation_v1/tf2'\n",
    "group = ['train','valid','test']\n",
    "for g in group:\n",
    "    img_folder = os.path.join(src,g,'images')\n",
    "    read_folder = os.path.join(src,g,'labels')\n",
    "    write_folder = os.path.join(dst,g,'labels')\n",
    "    if not os.path.exists(write_folder): os.makedirs(write_folder)\n",
    "    img_files = os.listdir(img_folder)\n",
    "    img_files = [file for file in img_files if file.lower().endswith(('.png', '.jpg', '.jpeg', '.tiff', '.bmp', '.gif'))]\n",
    "    # label_files = os.listdir(read_folder)\n",
    "    # label_files = [file for file in files if file != 'classes.txt']\n",
    "    print(f'{read_folder}>>>{write_folder}')\n",
    "    for file in tqdm(img_files):\n",
    "        if os.path.exists(os.path.join(read_folder, file[:-3]+'txt')):\n",
    "            shutil.copy(os.path.join(read_folder, file[:-3]+'txt'), os.path.join(write_folder, file[:-3]+'txt'))\n",
    "            shutil.copy(os.path.join(read_folder, file[:-3]+'txt'), os.path.join(write_folder, 'rain_'+file[:-3]+'txt'))\n",
    "        else:\n",
    "            with open(os.path.join(read_folder, file[:-3]+'txt'), 'w') as creating_empty_txt_file: \n",
    "                pass \n",
    "            "
   ]
  },
  {
   "cell_type": "markdown",
   "metadata": {},
   "source": [
    "# Make fliplr labels"
   ]
  },
  {
   "cell_type": "code",
   "execution_count": 29,
   "metadata": {},
   "outputs": [
    {
     "name": "stdout",
     "output_type": "stream",
     "text": [
      "V:/data_annotation_v1/original/tf2_sathit/train/labels >>> V:/data_annotation_v1/tf2/train/labels\n"
     ]
    },
    {
     "data": {
      "application/vnd.jupyter.widget-view+json": {
       "model_id": "d46591f2b835417d89e270646ef81bb6",
       "version_major": 2,
       "version_minor": 0
      },
      "text/plain": [
       "  0%|          | 0/1306 [00:00<?, ?it/s]"
      ]
     },
     "metadata": {},
     "output_type": "display_data"
    },
    {
     "name": "stdout",
     "output_type": "stream",
     "text": [
      "V:/data_annotation_v1/original/tf2_sathit/valid/labels >>> V:/data_annotation_v1/tf2/valid/labels\n"
     ]
    },
    {
     "data": {
      "application/vnd.jupyter.widget-view+json": {
       "model_id": "a7ab4b7ef90a48d98e8e4562d12c1f23",
       "version_major": 2,
       "version_minor": 0
      },
      "text/plain": [
       "  0%|          | 0/372 [00:00<?, ?it/s]"
      ]
     },
     "metadata": {},
     "output_type": "display_data"
    },
    {
     "name": "stdout",
     "output_type": "stream",
     "text": [
      "V:/data_annotation_v1/original/tf2_sathit/test/labels >>> V:/data_annotation_v1/tf2/test/labels\n"
     ]
    },
    {
     "data": {
      "application/vnd.jupyter.widget-view+json": {
       "model_id": "eadb9cd827c249ea837ec69a2aff1296",
       "version_major": 2,
       "version_minor": 0
      },
      "text/plain": [
       "  0%|          | 0/186 [00:00<?, ?it/s]"
      ]
     },
     "metadata": {},
     "output_type": "display_data"
    }
   ],
   "source": [
    "import os, shutil\n",
    "from tqdm.notebook import tqdm\n",
    "\n",
    "src = 'V:/data_annotation_v1/original/tf2_sathit'\n",
    "dst = 'V:/data_annotation_v1/tf2'\n",
    "group = ['train','valid','test']\n",
    "aug_type = ['fliplr_', 'rain_fliplr_']\n",
    "\n",
    "for g in group:\n",
    "    read_folder = os.path.join(src,g,'labels').replace('\\\\','/')\n",
    "    write_folder = os.path.join(dst,g,'labels').replace('\\\\','/')\n",
    "    if not os.path.exists(write_folder): os.makedirs(write_folder) \n",
    "    files = os.listdir(read_folder)\n",
    "    files = [file for file in files if file != 'classes.txt']\n",
    "    print(f'{read_folder} >>> {write_folder}')\n",
    "    for file in tqdm(files):\n",
    "        ann_src_path = os.path.join(read_folder,file)\n",
    "        for aug in aug_type:\n",
    "            ann_dst_path = os.path.join(write_folder, aug+file)\n",
    "            if os.path.getsize(ann_src_path) > 0:\n",
    "                with open(ann_src_path, 'r') as txt:\n",
    "                    txt = txt.read().splitlines()\n",
    "                    with open(ann_dst_path, 'w') as dst_file:\n",
    "                        for line in txt:\n",
    "                            cl, x, y, w, h = [i for i in line.split(' ')]\n",
    "                            x = str(f'{1-float(x):.6f}')\n",
    "                            dst_file.writelines(' '.join([cl, x, y, w, h])+'\\n')\n",
    "            else:\n",
    "                shutil.copy(ann_src_path, ann_dst_path)"
   ]
  },
  {
   "cell_type": "markdown",
   "metadata": {},
   "source": [
    "# Remove all files in directory"
   ]
  },
  {
   "cell_type": "code",
   "execution_count": 27,
   "metadata": {},
   "outputs": [
    {
     "data": {
      "application/vnd.jupyter.widget-view+json": {
       "model_id": "81ee293b34be41bb8a054ca3dc3311c1",
       "version_major": 2,
       "version_minor": 0
      },
      "text/plain": [
       "  0%|          | 0/3 [00:00<?, ?it/s]"
      ]
     },
     "metadata": {},
     "output_type": "display_data"
    },
    {
     "name": "stdout",
     "output_type": "stream",
     "text": [
      "V:/data_annotation_v1/tf2\\train\\labels\n",
      "V:/data_annotation_v1/tf2\\valid\\labels\n",
      "V:/data_annotation_v1/tf2\\test\\labels\n"
     ]
    }
   ],
   "source": [
    "import os, shutil\n",
    "from tqdm.notebook import tqdm\n",
    "\n",
    "dst = 'V:/data_annotation_v1/tf2'\n",
    "group = ['train','valid','test']\n",
    "for g in tqdm(group):\n",
    "    print(os.path.join(dst,g,'labels'))\n",
    "    try:\n",
    "        shutil.rmtree(os.path.join(dst,g,'labels'))\n",
    "    except OSError:\n",
    "        files = os.listdir(os.path.join(dst,g,'labels'))\n",
    "        for file in tqdm(files):\n",
    "            os.remove(os.join.path(dst,g,'labels',file))"
   ]
  }
 ],
 "metadata": {
  "kernelspec": {
   "display_name": "base",
   "language": "python",
   "name": "python3"
  },
  "language_info": {
   "codemirror_mode": {
    "name": "ipython",
    "version": 3
   },
   "file_extension": ".py",
   "mimetype": "text/x-python",
   "name": "python",
   "nbconvert_exporter": "python",
   "pygments_lexer": "ipython3",
   "version": "3.9.7"
  },
  "orig_nbformat": 4
 },
 "nbformat": 4,
 "nbformat_minor": 2
}
